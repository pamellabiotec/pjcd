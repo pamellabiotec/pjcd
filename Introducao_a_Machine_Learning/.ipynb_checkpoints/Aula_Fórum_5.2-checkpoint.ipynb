{
 "cells": [
  {
   "cell_type": "markdown",
   "metadata": {},
   "source": [
    "# Introdução a Machine Learning\n",
    "\n",
    "## 5.2 - Fórum\n",
    "\n",
    "Como você aprendeu nessa aula, as redes neurais são modelos computacionais inspirados no sistema nervoso central, ou seja, no cérebro animal, e atualmente, estão sendo bastante utilizadas em diversas tarefas de Aprendizado de Máquina. Além disso, foi estudado que o TensorFlow, por sua vez, é uma das bibliotecas mais versáteis para a construção dessas Redes Neurais, possuindo um suporte para inúmeras arquiteturas de redes.\n",
    "\n",
    "Portanto, neste fórum, você deve pesquisar sobre as outras arquiteturas de redes neurais e discutir com seus colegas sobre as principais características dessas estruturas."
   ]
  },
  {
   "cell_type": "markdown",
   "metadata": {},
   "source": [
    "Olá \n",
    "\n",
    "Considero o [PyTorch](https://pytorch.org/) que baseia-se no antigo Torch e no novo framework Caffe2. Como você pode imaginar a partir do nome, o PyTorch usa o Python como linguagem de script e usa um back-end Torch C/CUDA evoluído. Os recursos de produção do Caffe2 estão sendo incorporados ao projeto PyTorch. O PyTorch é classificado como “Tensores e redes neurais dinâmicas em Python com forte aceleração de GPU”. O que isso significa? \n",
    "\n",
    "Tensores são uma construção matemática usada pesadamente em física e engenharia. Um tensor de rank dois é um tipo especial de matriz; pegar o produto interno de um vetor com o tensor produz outro vetor com uma nova magnitude e uma nova direção. TensorFlow leva o seu nome a partir do modo como os tensores (de pesos de sinapse) fluem em torno do seu modelo de rede. O NumPy também usa tensores, mas os chama de ndarray. \n",
    "\n",
    "A aceleração de GPU é uma das mais modernas estruturas das Deep Neural Networks. Uma rede neural dinâmica é aquela que pode mudar de iteração para iteração, por exemplo, permitindo que um modelo PyTorch adicione e remova camadas ocultas durante o treinamento para melhorar sua precisão e generalidade. O PyTorch recria o gráfico em tempo real em cada etapa de iteração. Em contraste, o TensorFlow, por padrão, cria um único gráfico de fluxo de dados, otimiza o código do gráfico para desempenho e depois treina o modelo. \n",
    "\n",
    "Enquanto o  modo de execução ávido é uma opção relativamente nova no TensorFlow, é a única maneira de executar o PyTorch: chamadas de API são executadas quando invocadas, em vez de serem adicionadas a um gráfico para serem executadas posteriormente. Isso pode parecer que seria menos eficiente, do ponto de vista computacional, mas o PyTorch foi projetado para funcionar dessa maneira, e não é desleixo quando se trata de velocidade de treinamento ou previsão. O PyTorch integra bibliotecas de aceleração como Intel MKL e Nvidia cuDNN e NCCL (Nvidia Collective Communications Library) para maximizar a velocidade. Seus principais backend são gravados como bibliotecas independentes com uma API C99. Ao mesmo tempo, o PyTorch não é uma ligação do Python em um framework monolítico de C ++. A intenção é que ele seja profundamente integrado ao Python e permita o uso de outras bibliotecas Python. \n",
    "\n",
    "Custo: Código aberto gratuito. \n",
    "\n",
    "Plataformas: Linux, MacOS, Windows; CPUs e GPUs da Nvidia.\n",
    "\n",
    "Fonte: [cio.com.br](https://cio.com.br/gestao/melhores-bibliotecas-de-machine-e-deep-learning/)"
   ]
  }
 ],
 "metadata": {
  "kernelspec": {
   "display_name": "Python 3",
   "language": "python",
   "name": "python3"
  },
  "language_info": {
   "codemirror_mode": {
    "name": "ipython",
    "version": 3
   },
   "file_extension": ".py",
   "mimetype": "text/x-python",
   "name": "python",
   "nbconvert_exporter": "python",
   "pygments_lexer": "ipython3",
   "version": "3.8.5"
  }
 },
 "nbformat": 4,
 "nbformat_minor": 4
}
