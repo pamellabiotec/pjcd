{
 "cells": [
  {
   "cell_type": "markdown",
   "metadata": {},
   "source": [
    "# Tópico 01\n"
   ]
  },
  {
   "cell_type": "code",
   "execution_count": 1,
   "metadata": {},
   "outputs": [],
   "source": [
    "dicionario_01 = {} # dicionário vazio\n",
    "dicionario_02 = dict() # outro dicionário vazio"
   ]
  },
  {
   "cell_type": "code",
   "execution_count": 2,
   "metadata": {},
   "outputs": [],
   "source": [
    "populacao = {'Ceará': 9132078, 'Bahia': 14873064, 'Alagoas': 3337357}"
   ]
  },
  {
   "cell_type": "code",
   "execution_count": 3,
   "metadata": {},
   "outputs": [
    {
     "name": "stdout",
     "output_type": "stream",
     "text": [
      "O Ceará possui 9132078 habitantes.\n"
     ]
    }
   ],
   "source": [
    "print('O Ceará possui {} habitantes.'.format(populacao['Ceará']))"
   ]
  },
  {
   "cell_type": "code",
   "execution_count": 4,
   "metadata": {},
   "outputs": [],
   "source": [
    "populacao['Maranhão'] = 7075181"
   ]
  },
  {
   "cell_type": "code",
   "execution_count": 5,
   "metadata": {},
   "outputs": [],
   "source": [
    "populacao[0] = 10"
   ]
  },
  {
   "cell_type": "code",
   "execution_count": 6,
   "metadata": {},
   "outputs": [
    {
     "name": "stdout",
     "output_type": "stream",
     "text": [
      "O Ceará possui 9132078 habitantes.\n",
      "O Bahia possui 14873064 habitantes.\n",
      "O Alagoas possui 3337357 habitantes.\n",
      "O Maranhão possui 7075181 habitantes.\n",
      "O 0 possui 10 habitantes.\n"
     ]
    }
   ],
   "source": [
    "for chave, valor in populacao.items():\n",
    "    print('O {} possui {} habitantes.'.format(chave, valor))"
   ]
  },
  {
   "cell_type": "code",
   "execution_count": 7,
   "metadata": {},
   "outputs": [],
   "source": [
    "del populacao[0]"
   ]
  },
  {
   "cell_type": "code",
   "execution_count": 8,
   "metadata": {},
   "outputs": [
    {
     "ename": "KeyError",
     "evalue": "0",
     "output_type": "error",
     "traceback": [
      "\u001b[1;31m---------------------------------------------------------------------------\u001b[0m",
      "\u001b[1;31mKeyError\u001b[0m                                  Traceback (most recent call last)",
      "\u001b[1;32m<ipython-input-8-8fdc1cbbd477>\u001b[0m in \u001b[0;36m<module>\u001b[1;34m\u001b[0m\n\u001b[1;32m----> 1\u001b[1;33m \u001b[0mpopulacao\u001b[0m\u001b[1;33m[\u001b[0m\u001b[1;36m0\u001b[0m\u001b[1;33m]\u001b[0m\u001b[1;33m.\u001b[0m\u001b[0mpop\u001b[0m\u001b[1;33m(\u001b[0m\u001b[1;33m)\u001b[0m\u001b[1;33m\u001b[0m\u001b[1;33m\u001b[0m\u001b[0m\n\u001b[0m",
      "\u001b[1;31mKeyError\u001b[0m: 0"
     ]
    }
   ],
   "source": [
    "populacao[0].pop()"
   ]
  },
  {
   "cell_type": "code",
   "execution_count": null,
   "metadata": {},
   "outputs": [],
   "source": [
    "if 0 in populacao:\n",
    "    populacao[0].pop()"
   ]
  },
  {
   "cell_type": "code",
   "execution_count": null,
   "metadata": {},
   "outputs": [],
   "source": [
    "print('O Piauí possui {} habitantes.'.format(populacao['Piauí']))"
   ]
  },
  {
   "cell_type": "code",
   "execution_count": null,
   "metadata": {},
   "outputs": [],
   "source": [
    "print('O Piauí possui {} habitantes.'.format(populacao.get('Piauí')))"
   ]
  },
  {
   "cell_type": "code",
   "execution_count": null,
   "metadata": {},
   "outputs": [],
   "source": [
    "estado = input('De qual estado você quer saber a população: ')\n",
    "pop = populacao.get(estado)\n",
    "if pop == None:\n",
    "    print('Infelizmente não sabemos informar a população deste estado :(')\n",
    "else:\n",
    "    print('{} possui {} habitantes.'.format(estado, pop))"
   ]
  },
  {
   "cell_type": "code",
   "execution_count": null,
   "metadata": {},
   "outputs": [],
   "source": [
    "print('Escolha entre os estados: ' +  ', '.join(populacao.keys()))"
   ]
  },
  {
   "cell_type": "code",
   "execution_count": null,
   "metadata": {},
   "outputs": [],
   "source": [
    "populacao.values()"
   ]
  },
  {
   "cell_type": "code",
   "execution_count": null,
   "metadata": {},
   "outputs": [],
   "source": [
    "for chave in sorted(populacao):\n",
    "    print('{} possui {} habitantes.'.format(chave, populacao[chave]))"
   ]
  },
  {
   "cell_type": "code",
   "execution_count": null,
   "metadata": {},
   "outputs": [],
   "source": [
    "for estado in sorted(populacao, key= lambda chave:populacao.get(chave)):\n",
    "    print('{} possui {} habitantes.'.format(estado, populacao[estado]))"
   ]
  },
  {
   "cell_type": "markdown",
   "metadata": {},
   "source": [
    "# Tópico 02\n"
   ]
  },
  {
   "cell_type": "code",
   "execution_count": null,
   "metadata": {},
   "outputs": [],
   "source": [
    "mensagem = input('Digite uma string qualquer: ')\n",
    "\n",
    "ocorrencias = {}\n",
    "for letra in mensagem:\n",
    "    ocorrencias[letra] = ocorrencias.get(letra, 0) + 1"
   ]
  },
  {
   "cell_type": "code",
   "execution_count": null,
   "metadata": {},
   "outputs": [],
   "source": [
    "print('A mensagem digitada possui: {} caracteres, sendo {} caracteres únicos.'.format(len(mensagem), len(ocorrencias)))\n",
    "print('Cada um destes caracteres únicos ocorreu: ')\n",
    "for letra in sorted(ocorrencias):\n",
    "    print('\\t{} ocorreu {} vezes.'.format(letra, ocorrencias[letra]))"
   ]
  },
  {
   "cell_type": "code",
   "execution_count": null,
   "metadata": {},
   "outputs": [],
   "source": [
    "class Contato:\n",
    "    nome = ''\n",
    "    telefone = ''\n",
    "    email = ''\n",
    "\n",
    "contatos = {}"
   ]
  },
  {
   "cell_type": "code",
   "execution_count": null,
   "metadata": {},
   "outputs": [],
   "source": [
    "ctt = Contato() # instanciando novo objeto da classe Contato\n",
    "print('--- Adição de mais um contato --- ') # fazendo leitura dos dados nas 3 linhas a seguir\n",
    "ctt.nome = input('Digite o nome do contato: ')\n",
    "ctt.telefone = input('Digite o telefone do contato: ')\n",
    "ctt.email = input('Digite o email do contato: ')\n",
    "\n",
    "inicial = ctt.nome[0].upper() # assegurando que a inicial do nome do contato seja maiúscula\n",
    "if inicial not in contatos: # se nenhum contato com essa inicial foi incluído até o momento\n",
    "    contatos[inicial] = [] # então inicie a lista de contatos com esta inicial como uma lista vazia\n",
    "contatos[inicial].append(ctt) # adicione o novo contato na lista correta"
   ]
  },
  {
   "cell_type": "code",
   "execution_count": null,
   "metadata": {},
   "outputs": [],
   "source": [
    "for inicial in sorted(contatos): # laço externo itera nas iniciais ordenadas\n",
    "    print('--- Contatos com a letra {} ---'.format(inicial))\n",
    "    for ctt in sorted(contatos[inicial], key=lambda c : c.nome): # laço interno itera nos contatos ordenados\n",
    "        print('Nome: {}\\tTelefone: {}\\tEmail: {}'.format(ctt.nome, ctt.telefone, ctt.email))"
   ]
  }
 ],
 "metadata": {
  "kernelspec": {
   "display_name": "Python 3",
   "language": "python",
   "name": "python3"
  },
  "language_info": {
   "codemirror_mode": {
    "name": "ipython",
    "version": 3
   },
   "file_extension": ".py",
   "mimetype": "text/x-python",
   "name": "python",
   "nbconvert_exporter": "python",
   "pygments_lexer": "ipython3",
   "version": "3.7.6"
  }
 },
 "nbformat": 4,
 "nbformat_minor": 4
}
