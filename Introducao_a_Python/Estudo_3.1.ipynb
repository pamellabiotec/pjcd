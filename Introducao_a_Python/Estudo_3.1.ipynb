{
 "cells": [
  {
   "cell_type": "code",
   "execution_count": 1,
   "metadata": {},
   "outputs": [
    {
     "name": "stdout",
     "output_type": "stream",
     "text": [
      "f(1) é 5\n",
      "f(2) é 20\n",
      "f(3) é 45\n"
     ]
    }
   ],
   "source": [
    "def f(x):\n",
    "    return 5*x**2\n",
    "for i in range(1, 4):\n",
    "    print('f({}) é {}'.format(i, f(i)))"
   ]
  },
  {
   "cell_type": "code",
   "execution_count": 4,
   "metadata": {},
   "outputs": [
    {
     "data": {
      "text/plain": [
       "4.0"
      ]
     },
     "execution_count": 4,
     "metadata": {},
     "output_type": "execute_result"
    }
   ],
   "source": [
    "def media(notas):\n",
    "    return sum(notas) / len(notas)\n",
    "media([1.2, 4.5, 6.3])"
   ]
  },
  {
   "cell_type": "code",
   "execution_count": 5,
   "metadata": {},
   "outputs": [
    {
     "name": "stdout",
     "output_type": "stream",
     "text": [
      "a = 3\n",
      "b = -2\n",
      "c = -5\n",
      "Raízes reais: (1.6666666666666667, -1.0)\n"
     ]
    }
   ],
   "source": [
    "a = float(input('a = '))\n",
    "b = float(input('b = '))\n",
    "c = float(input('c = '))\n",
    "\n",
    "delta = b**2 - 4 * a * c\n",
    "if delta < 0:\n",
    "    raizes = ()\n",
    "else:\n",
    "    x1 = (-b + delta**0.5)/(2 * a)\n",
    "    x2 = (-b - delta**0.5)/(2 * a)\n",
    "    if delta == 0:\n",
    "        raizes = (x1,)\n",
    "    else:\n",
    "        raizes = (x1, x2)\n",
    "\n",
    "print('Raízes reais:', raizes)"
   ]
  },
  {
   "cell_type": "code",
   "execution_count": 25,
   "metadata": {},
   "outputs": [
    {
     "name": "stdout",
     "output_type": "stream",
     "text": [
      "a = 3\n",
      "b = -5\n",
      "c = -2\n",
      "3.0x² + -5.0x + -2.0 = 0:\n",
      "Raízes reais: (2.0, -0.3333333333333333)\n"
     ]
    }
   ],
   "source": [
    "def raizes2grau(a, b, c):\n",
    "    delta = b**2 - 4 * a * c\n",
    "    if delta < 0:\n",
    "        raizes = ()\n",
    "    else:\n",
    "        x1 = (-b + delta**0.5)/(2 * a)\n",
    "        x2 = (-b - delta**0.5)/(2 * a)\n",
    "        if delta == 0:\n",
    "            raizes = (x1,)\n",
    "        else:\n",
    "            raizes = (x1, x2)\n",
    "    return raizes\n",
    "a = float(input('a = '))\n",
    "b = float(input('b = '))\n",
    "c = float(input('c = '))\n",
    "print('{}x² + {}x + {} = 0:'.format(a, b, c))\n",
    "print('Raízes reais:', raizes2grau(a, b, c))"
   ]
  },
  {
   "cell_type": "code",
   "execution_count": 32,
   "metadata": {},
   "outputs": [
    {
     "data": {
      "text/plain": [
       "96.446894465213"
      ]
     },
     "execution_count": 32,
     "metadata": {},
     "output_type": "execute_result"
    }
   ],
   "source": [
    "def circunferencia2(raio):\n",
    "    pi = 3.14159265359\n",
    "    return 2 * pi * raio\n",
    "circunferencia2(15.35)"
   ]
  },
  {
   "cell_type": "code",
   "execution_count": 48,
   "metadata": {},
   "outputs": [],
   "source": [
    "def media(notas):\n",
    "    return sum(notas) / len(notas)\n",
    "\n",
    "def ler_notas(n):\n",
    "    notas = []\n",
    "    for i in range(n):\n",
    "        nota = float (input (str(i+1) + 'ª nota: '))\n",
    "        notas.append(nota)\n",
    "    return notas\n",
    "\n",
    "    num_alunos = int(input('Quantos alunos? '))\n",
    "    num_notas = int(input('Quantas notas? '))\n",
    "    for i in range(num_alunos):\n",
    "        nome = input(str(i+1) + 'º do aluno(a): ')\n",
    "        notas = ler_notas(num_notas)\n",
    "        nota_final = media(notas)\n",
    "        print('A nota de', nome, 'é', nota_final)"
   ]
  },
  {
   "cell_type": "code",
   "execution_count": null,
   "metadata": {},
   "outputs": [],
   "source": [
    "for i in range(len(agenda)):\n",
    "    for n in range(len(agenda[i])):\n",
    "        print(agenda[i][n])"
   ]
  }
 ],
 "metadata": {
  "kernelspec": {
   "display_name": "Python 3",
   "language": "python",
   "name": "python3"
  },
  "language_info": {
   "codemirror_mode": {
    "name": "ipython",
    "version": 3
   },
   "file_extension": ".py",
   "mimetype": "text/x-python",
   "name": "python",
   "nbconvert_exporter": "python",
   "pygments_lexer": "ipython3",
   "version": "3.7.6"
  }
 },
 "nbformat": 4,
 "nbformat_minor": 4
}
