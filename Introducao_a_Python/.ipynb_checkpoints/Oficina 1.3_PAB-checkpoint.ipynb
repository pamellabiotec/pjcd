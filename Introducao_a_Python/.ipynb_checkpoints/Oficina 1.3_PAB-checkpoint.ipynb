{
 "cells": [
  {
   "cell_type": "markdown",
   "metadata": {},
   "source": [
    "# Introdução a Python - Oficina 1.3\n",
    "\n",
    "Imagine que você começou a trabalhar numa empresa de desenvolvimento de software. Lá, você conseguiu um contrato para desenvolver o sistema de uma clínica veterinária e foi alocado para construir a parte do sistema que faz o cadastro do cliente e do animal dele. Então, seu chefe chegou na sua mesa e falou, “Eu preciso de um tipo de dados para armazenar informações sobre os clientes da clínica, estes dados são: o nome, a idade, o endereço e o telefone do cliente. Ah, também preciso de outro tipo em que possamos armazenar os dados dos pets, que são: o nome, o tipo (cão ou gato, por exemplo), a idade, o peso e a doença que ele tem no momento, ok? Faça isso e depois construa um programa que lê os dados de um cliente e de um pet, em sequência. Após fazer esta leitura, você deve apresentar os dados na tela, só para vermos se tudo foi armazenado corretamente. Então, posso contar com você?” A partir das orientações dadas pelo seu chefe, construa um notebook Jupyter que resolve os problemas apresentados por ele: a representação e o armazenamento dos dados do cliente, do pet, a entrada de dados a partir do teclado e a saída de dados textual em tela. Em seguida, exporte o arquivo do seu notebook e envie."
   ]
  },
  {
   "cell_type": "code",
   "execution_count": null,
   "metadata": {},
   "outputs": [],
   "source": [
    "class cliente:\n",
    "    def __init__(self, cliente_nome, cliente_idade, cliente_endereco, cliente_telefone):\n",
    "        self.cliente_nome = cliente_nome\n",
    "        self.cliente_idade = cliente_idade\n",
    "        self.cliente_endereco = cliente_endereco\n",
    "        self.cliente_telefone = cliente_telefone                             "
   ]
  },
  {
   "cell_type": "code",
   "execution_count": null,
   "metadata": {},
   "outputs": [],
   "source": [
    "cliente_nome = input(\"Digite o nome do cliente: \")"
   ]
  },
  {
   "cell_type": "code",
   "execution_count": null,
   "metadata": {},
   "outputs": [],
   "source": [
    "cliente_idade = input(\"Digite a idade do cliente: \")"
   ]
  },
  {
   "cell_type": "code",
   "execution_count": null,
   "metadata": {},
   "outputs": [],
   "source": [
    "cliente_endereco = input(\"Digite o endereço do cliente: \")"
   ]
  },
  {
   "cell_type": "code",
   "execution_count": null,
   "metadata": {},
   "outputs": [],
   "source": [
    "cliente_telefone = input(\"Digite o telefone do cliente: \")"
   ]
  },
  {
   "cell_type": "code",
   "execution_count": null,
   "metadata": {},
   "outputs": [],
   "source": [
    "class pet(cliente):     \n",
    "    def __init__(self, pet_nome, pet_tipo, pet_idade, pet_peso, pet_doenca,cliente_nome, cliente_idade, cliente_endereco, cliente_telefone):\n",
    "        super().__init__(cliente_nome, cliente_idade, cliente_endereco, cliente_telefone)\n",
    "        self.pet_nome = pet_nome\n",
    "        self.pet_tipo = pet_tipo\n",
    "        self.pet_idade = pet_idade\n",
    "        self.pet_peso = pet_peso\n",
    "        self.pet_doenca = pet_doenca                       "
   ]
  },
  {
   "cell_type": "code",
   "execution_count": null,
   "metadata": {},
   "outputs": [],
   "source": [
    "pet_nome = input(\"Digite o nome do pet: \")"
   ]
  },
  {
   "cell_type": "code",
   "execution_count": null,
   "metadata": {},
   "outputs": [],
   "source": [
    "pet_tipo = input(\"Defina o tipo de pet: \")"
   ]
  },
  {
   "cell_type": "code",
   "execution_count": null,
   "metadata": {},
   "outputs": [],
   "source": [
    "pet_idade = input(\"Digite a idade do pet: \")"
   ]
  },
  {
   "cell_type": "code",
   "execution_count": null,
   "metadata": {},
   "outputs": [],
   "source": [
    "pet_peso = input(\"Digite o peso do pet: \")"
   ]
  },
  {
   "cell_type": "code",
   "execution_count": null,
   "metadata": {},
   "outputs": [],
   "source": [
    "pet_doenca = input(\"Digite a doença do pet: \")"
   ]
  },
  {
   "cell_type": "code",
   "execution_count": null,
   "metadata": {},
   "outputs": [],
   "source": [
    "print(\"O cliente \"+ cliente_nome)        "
   ]
  },
  {
   "cell_type": "code",
   "execution_count": null,
   "metadata": {},
   "outputs": [],
   "source": [
    "print(\"com a idade \"+ cliente_idade)"
   ]
  },
  {
   "cell_type": "code",
   "execution_count": null,
   "metadata": {},
   "outputs": [],
   "source": [
    "print(\"Residente ao endereço: \"+ cliente_endereco)        "
   ]
  },
  {
   "cell_type": "code",
   "execution_count": null,
   "metadata": {},
   "outputs": [],
   "source": [
    "print(\"com telefone \"+ cliente_telefone)"
   ]
  },
  {
   "cell_type": "code",
   "execution_count": null,
   "metadata": {},
   "outputs": [],
   "source": [
    "print(\"Tem o pet: \"+ pet_nome)        "
   ]
  },
  {
   "cell_type": "code",
   "execution_count": null,
   "metadata": {},
   "outputs": [],
   "source": [
    "print(\"do tipo: \"+ pet_tipo)        "
   ]
  },
  {
   "cell_type": "code",
   "execution_count": null,
   "metadata": {},
   "outputs": [],
   "source": [
    "print(\"com a idade de \"+ pet_idade)        "
   ]
  },
  {
   "cell_type": "code",
   "execution_count": null,
   "metadata": {},
   "outputs": [],
   "source": [
    "print(\"que contém o peso: \"+ pet_peso)"
   ]
  },
  {
   "cell_type": "code",
   "execution_count": null,
   "metadata": {},
   "outputs": [],
   "source": [
    "print(\"e a doença: \"+ pet_doenca)"
   ]
  },
  {
   "cell_type": "markdown",
   "metadata": {},
   "source": [
    "Desenvolvido por **Pâmella Araújo Balcaçar**, Rondonópolis-MT, 25/11/2020."
   ]
  }
 ],
 "metadata": {
  "kernelspec": {
   "display_name": "Python 3",
   "language": "python",
   "name": "python3"
  },
  "language_info": {
   "codemirror_mode": {
    "name": "ipython",
    "version": 3
   },
   "file_extension": ".py",
   "mimetype": "text/x-python",
   "name": "python",
   "nbconvert_exporter": "python",
   "pygments_lexer": "ipython3",
   "version": "3.7.6"
  }
 },
 "nbformat": 4,
 "nbformat_minor": 4
}
