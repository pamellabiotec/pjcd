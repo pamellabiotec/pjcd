{
 "cells": [
  {
   "cell_type": "markdown",
   "metadata": {},
   "source": [
    "# Glossário\n",
    "\n",
    "### 1.1 - Introdução ao Machine Learning\n",
    "\n",
    "- Aprendizado não supervisionado: É um tipo de aprendizado de *machine learning*, nele o objetivo é separar os dados em grupos com características semelhantes.\n",
    "\n",
    "- Aprendizado supervisionado: É um tipo de aprendizado de *machine learning*, nele o objetivo é separar os dados já estruturados em grupos determinados.\n",
    "\n",
    "- Aprendizado por reforço: É um tipo de aprendizado de *machine learning* que se preocupa como os agentes inteligentes devem realizar ações em um ambiente para maximizar a noção de recompensa cumulativa. Também conhecido como aprendizado semi-supervisionado.\n",
    "\n",
    "- Aprendizado profundo: É um tipo de aprendizado de *machine learning* em que os dados são organizados em camadas, como redes neurais, por isso o aprendizado é gradual.  \n",
    "\n",
    "- Machine Learning: É uma tecnologia da área da Inteligência Artificial que possibilita o desenvolvimento de sistemas capazes de aprender, utilizando algoritmos que identificam padrões em dados.\n",
    "\n",
    "- Streaming: É uma tecnologia de transmissão instantânea de dados de áudio e vídeo através de redes. Por meio do serviço, é possível assistir a filmes ou escutar música sem a necessidade de fazer download de arquivos."
   ]
  },
  {
   "cell_type": "markdown",
   "metadata": {},
   "source": [
    "### 1.2 - Introdução a Regressão\n",
    "\n",
    "- Regressão: Corresponde a uma equação matemática que descreve como duas ou mais variáveis estão relacionadas\n",
    "\n",
    "- Regressão linear: é dita linear quando a equação matemática que representa uma reta de regressão pode possuir termos constantes e termos multiplicando as variáveis independentes.\n",
    "\n",
    "- Regressão múltipla: é quando mais de uma variável independente, é usada para obter a variável dependente.\n",
    "\n",
    "- Regressão Logística: É uma técnica estatística usada em problemas de classificação e tem como característica estimar a probabilidade de ocorrência de determinada categoria.\n",
    "\n",
    "- Regressão não-linear: Apresenta a divisão de uma constante por uma soma com um exponencial. Essa equação não linear, que representa uma curva com formato de “S” é conhecida como função logística.\n",
    "\n",
    "- Regressão simples: são aqueles em que uma única variável independente é usada para obter a variável dependente.\n",
    "\n",
    "- Variáveis Dependentes: são aquelas que dependem de outras variáveis para serem explicadas.\n",
    "\n",
    "- Variáveis Independentes: são aquelas que não dependem de outras variáveis para serem explicadas."
   ]
  },
  {
   "cell_type": "markdown",
   "metadata": {},
   "source": [
    "## 2.1 - KNN\n",
    "\n",
    "* Distância euclidiana: Em matemática, distância euclidiana (ou distância métrica) é a distância entre dois pontos, que pode ser provada pela aplicação repetida do teorema de Pitágoras. Aplicando essa fórmula como distância, o espaço euclidiano torna-se um espaço métrico. Em *Machine Learning*, é a medida de distância, nela é utilizada a raiz quadrada da soma das diferenças ao quadrado entre os pontos."
   ]
  },
  {
   "cell_type": "markdown",
   "metadata": {},
   "source": [
    "## 2.2 - Decision Tree\n",
    "\n",
    "* Overfit: É um problema que ocorre quando o modelo torna-se especialista, ou seja, não consegue fazer generalizações. Ou seja, quando o modelo se ajusta perfeitamente a um conjunto de dados, por exemplo, quando a árvore de decisão tenta dividir perfeitamente os dados de treino de modo a classificar esses dados de maneira correta, sem dar margem a nenhum erro de classificação. O ponto negativo é que não conseguirá classificar bem os demais dados uma vez que o aprendizado foi perfeito sobre os dados de treino.\n",
    "\n",
    "* Árvore de decisão: é um modelo de aprendizado supervisionado que é construído pela divisão do conjunto de dados de acordo com os valores de atributos. O valor de atributo escolhido para a divisão é o que consegue separar melhor as classes dos dados. O grau de separação é mensurado por uma medida de impureza, como o índice Gini. Quanto menor a impureza, melhor a separação. A árvore tenta separar os dados seguindo esse critério até que os dados estejam perfeitamente separados.\n",
    "\n",
    "* Cálculo de impureza: é uma métrica para mensurar o quão bem os dados são divididos, em termos de classes, a cada escolha de divisão de um atributo. \n",
    "\n",
    "* Índice Gini: é um índice, um valor que representa alguma métrica."
   ]
  },
  {
   "cell_type": "markdown",
   "metadata": {},
   "source": [
    "## 3.1 - Introdução à Clusterização\n",
    "\n",
    "* Clusterização: é o processo do modelo de instalação de banco de dados em vários computadores, com o objetivo de prover alto desempenho.\n",
    "\n",
    "* Distância de Manhattan: É Medida de distância, nela é considerada a soma dos módulos das diferenças entre os pontos. \n",
    "\n",
    "* Módulo: é o valor absoluto de um número, não considerando o sinal, por exemplo, |-3| = 3 (lê-se módulo de -3). \n",
    "\n",
    "* Distância de Minkoeski é Medida de distância, é uma generalização das distâncias Manhattan e Euclidiana.\n",
    "\n",
    "* Distância de Mahalanobis é uma distância que considera as correlações existentes no conjunto de dados.\n",
    "\n",
    "* Árvore binária é uma estrutura de dados, essa árvore tem um nó raiz que origina dois outros nós, tais nós podem possuir no máximo duas folhas.\n",
    "\n",
    "* Dendograma é um tipo de diagrama de organização dos dados em que há mais informações sobre os clusters, por isso nesta árvore os dados são divididos em subconjuntos de menor tamanho.\n",
    "\n",
    "* Algoritmos Hierárquicos é um método de organização dos dados em que os dados são organizados em grupos aglomerativos ou divisivos.\n",
    "\n",
    "* Algoritmos Não-Hierárquicos é um método de organização dos dados em que os clusters com dados são organizados a partir das distâncias entre os dados e os centros do cluster, assim os dados são agrupados segundo os graus de similaridade."
   ]
  },
  {
   "cell_type": "markdown",
   "metadata": {},
   "source": [
    "## 3.2 - K-means\n",
    "\n",
    "* Centróide: representa o centro de um cluster e é obtido pelo valor médio dos dados que estão dentro desse cluster.\n",
    "\n",
    "\n",
    "* Soma do erro quadrático: representa a soma das diferenças ao quadrado, entre cada observação e a média do grupo em um conjunto de dados. "
   ]
  },
  {
   "cell_type": "markdown",
   "metadata": {},
   "source": [
    "## 4.1 - Overfitting e Underfitting\n",
    "\n",
    "* Overfitting é um problema que ocorre quando o modelo torna-se especialista, ou seja, não consegue fazer generalizações.\n",
    "\n",
    "\n",
    "* Underfitting é um problema que ocorre quando o modelo tende a subestimar os resultados previstos. "
   ]
  },
  {
   "cell_type": "markdown",
   "metadata": {},
   "source": [
    "## 4.2 - Tradeoff Viés/Variância\n",
    "\n",
    "* Redução de Dimensionalidade é uma outra técnica diferente de validação cruzada, que constitui-se na tentativa de descrever os dados através da maioria dos atributos, mas não todos, ou seja, eliminar os atributos que têm pouca, ou nenhuma relação com o atributo de saída.\n",
    "\n",
    "* Tradeoff é o ponto de decisão onde se tem que ponderar na escolha de um modelo baseado no viés e na variância.\n",
    "\n",
    "* Validação Cruzada é uma técnica usada para avaliar modelos de machine learning submetendo os subconjuntos de dados como treino e teste em partições de dados diferentes.\n",
    "\n",
    "* Variância é uma medida estatística e representa a dispersão dos dados em relação a um valor central.\n",
    "\n",
    "* Viés é um tipo de erro que representa os desvios entre as observações reais dos dados e também o que o modelo está prevendo com base nessas observações."
   ]
  },
  {
   "cell_type": "markdown",
   "metadata": {},
   "source": [
    "## 5.1 - Introdução às Redes Neurais Artificiais\n",
    "\n",
    "* Perceptron Consiste em um incremento de um peso para cada variável de entrada, trazendo o conceito de importâncias diferentes para cada uma.  "
   ]
  },
  {
   "cell_type": "markdown",
   "metadata": {},
   "source": [
    "## 5.2 - Introdução a TensorFlow\n",
    "\n",
    "* TensorFlow é uma biblioteca desenvolvida pelo Google, que possui código aberto e é voltada para aprendizado de máquina. "
   ]
  },
  {
   "cell_type": "markdown",
   "metadata": {},
   "source": [
    "## 5.3 - Introdução ao processamento da linguagem natural\n",
    "\n",
    "* Recuperação é uma área do processamento de linguagem natural que busca encontrar um sentido para um dado texto ou informação.\n",
    "\n",
    "* Segmentação é uma técnica utilizada em processamento da linguagem natural, que tem como característica a divisão de um texto de acordo com uma determinada regra.\n",
    "\n",
    "* Stopwords são palavras que geralmente são removidas no início do processamento de textos, que não afetam a compreensão de frases, podendo assim diminuir consideravelmente o tamanho desses textos em análise.\n",
    "\n",
    "* Tokenização é  uma forma de dividir o texto, de forma que cada palavra é um token no texto, nesse sentido a tokenização é um tipo de segmentação."
   ]
  },
  {
   "cell_type": "code",
   "execution_count": null,
   "metadata": {},
   "outputs": [],
   "source": []
  }
 ],
 "metadata": {
  "kernelspec": {
   "display_name": "Python 3",
   "language": "python",
   "name": "python3"
  },
  "language_info": {
   "codemirror_mode": {
    "name": "ipython",
    "version": 3
   },
   "file_extension": ".py",
   "mimetype": "text/x-python",
   "name": "python",
   "nbconvert_exporter": "python",
   "pygments_lexer": "ipython3",
   "version": "3.8.5"
  }
 },
 "nbformat": 4,
 "nbformat_minor": 4
}
