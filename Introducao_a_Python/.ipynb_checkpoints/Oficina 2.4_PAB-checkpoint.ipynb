{
 "cells": [
  {
   "cell_type": "markdown",
   "metadata": {},
   "source": [
    "# Introdução a Python -  Oficina Aula 2.4\n",
    "\n",
    "Durante a aula, foi apresentado a criação de dicionários em diferentes cenários. Então, chegou o momento de praticar, a partir do que você aprendeu, e utilizar dicionários, como estrutura básica, para resolver o seguinte problema: Imagine que você foi contratado para construir o sistema de gerenciamento de uma livraria e é o responsável por criar um módulo/célula, que fará a leitura dos dados de livros, que serão Título, gênero, subgênero, editora, número de cópias em loja e valor em reais. Além disso, você também é o responsável pelo módulo de apresentação dos livros disponíveis em loja, seguindo a seguinte organização: ao se apresentar todos os livros disponíveis, deve-se separá-los, primeiro, por gênero e, depois, por subgênero, seguindo a estrutura a seguir:\n",
    "\n",
    "--- Gênero A ---\n",
    "------ Subgênero A.1 ------\n",
    "Livro 01\n",
    "Livro 02\n",
    "------ Subgênero A.2 ------\n",
    "Livro 03\n",
    "--- Gênero B ---\n",
    "------ Subgênero B.1 ------\n",
    "Livro 04\n",
    "------ Subgênero B.2 ------\n",
    "Livro 05\n",
    "Livro 06\n",
    "\n",
    "Tanto gênero quanto subgênero devem seguir uma ordem alfabética de apresentação, em que, dentro de um subgênero, os livros devem ser listados pela quantidade disponível em loja. Vamos lá?"
   ]
  },
  {
   "cell_type": "code",
   "execution_count": 33,
   "metadata": {},
   "outputs": [],
   "source": [
    "livro = {\"A\": {} , \"B\": {} , \"C\": {} , \"D\": {} , \"E\": {}}\n",
    "livro[\"A\"][\"A.1\"] = {\"Título\": \"Guia completo para empreendedor\", \"Editora\": \"Moderna\", \"Nº de exemplares\": 25, \"Valor R$\": 23.78}\n",
    "livro[\"A\"][\"A.2\"] = {\"Título\": \"Pai rico, pai pobre\", \"Editora\": \"Abril\", \"Nº de exemplares\": 15, \"Valor R$\": 20.88}\n",
    "livro[\"A\"][\"A.3\"] = {\"Título\": \"Almanaque de novelas\", \"Editora\": \"Globo \", \"Nº de exemplares\": 30, \"Valor R$\": 43.35}\n",
    "livro[\"A\"][\"A.4\"] = {\"Título\": \"Guia de bolso: Crochê na prática\", \"Editora\": \"Saraiva\", \"Nº de exemplares\": 4, \"Valor R$\": 12.08}\n",
    "livro[\"B\"][\"B.1\"] = {\"Título\": \"Princípios Integrados de Zoologia\", \"Editora\": \"Vozes\", \"Nº de exemplares\": 7, \"Valor R$\": 123.00}\n",
    "livro[\"B\"][\"B.1\"] = {\"Título\": \"Introdução à Bioinformática\", \"Editora\": \"Moderna \", \"Nº de exemplares\": 49, \"Valor R$\": 25.68}\n",
    "livro[\"B\"][\"B.2\"] = {\"Título\": \"Fisiologia Humana\", \"Editora\": \"Moderna \", \"Nº de exemplares\": 12, \"Valor R$\": 88.00}\n",
    "livro[\"B\"][\"B.3\"] = {\"Título\": \"Livro de colorir: Anatomia Humana\", \"Editora\": \"Moderna\", \"Nº de exemplares\": 25, \"Valor R$\": 61.00}\n",
    "livro[\"C\"][\"C.1\"] = {\"Título\": \"Inocência\", \"Editora\": \"Rocco\", \"Nº de exemplares\": 32, \"Valor R$\": 23.20}\n",
    "livro[\"C\"][\"C.1\"] = {\"Título\": \"Romeu e Julieta\", \"Editora\": \"Vozes\", \"Nº de exemplares\": 22, \"Valor R$\": 23.20}\n",
    "livro[\"C\"][\"C.2\"] = {\"Título\": \"Jamais te esquecerei\", \"Editora\": \"Positivo\", \"Nº de exemplares\": 13, \"Valor R$\": 45.60}\n",
    "livro[\"C\"][\"C.3\"] = {\"Título\": \"Morro dos ventos uivantes\", \"Editora\": \"Rocco\", \"Nº de exemplares\": 48, \"Valor R$\": 55.99}\n",
    "livro[\"C\"][\"C.4\"] = {\"Título\": \"Flores do jardim\", \"Editora\": \"Saraiva\", \"Nº de exemplares\": 8, \"Valor R$\": 60.00}\n",
    "livro[\"D\"][\"D.1\"] = {\"Título\": \"Introdução à Java\", \"Editora\": \"Moderna \", \"Nº de exemplares\": 57, \"Valor R$\": 15.00}\n",
    "livro[\"D\"][\"D.2\"] = {\"Título\": \"Python Avançado\", \"Editora\": \"Positivo\", \"Nº de exemplares\": 27, \"Valor R$\": 11.60}\n",
    "livro[\"D\"][\"D.3\"] = {\"Título\": \"Guia de Montagem e manutenção de computadores\", \"Editora\": \"Vozes\", \"Nº de exemplares\": 6, \"Valor R$\": 36.80}\n",
    "livro[\"D\"][\"D.4\"] = {\"Título\": \"Arquitetura de redes\", \"Editora\": \"Abril \", \"Nº de exemplares\": 17, \"Valor R$\": 39.90}\n",
    "livro[\"E\"][\"E.1\"] = {\"Título\": \"Alice no país das maravilhas\", \"Editora\": \"Moderna \", \"Nº de exemplares\": 15, \"Valor R$\": 7.80}\n",
    "livro[\"E\"][\"E.2\"] = {\"Título\": \"Senhor dos Anéis: Triologia\", \"Editora\": \"Vozes\", \"Nº de exemplares\": 19, \"Valor R$\": 83.78}\n",
    "livro[\"E\"][\"E.3\"] = {\"Título\": \"Harry Potter: O Cálice de fogo\", \"Editora\": \"Saraiva\", \"Nº de exemplares\": 25, \"Valor R$\": 15.50}"
   ]
  },
  {
   "cell_type": "code",
   "execution_count": 31,
   "metadata": {},
   "outputs": [
    {
     "name": "stdout",
     "output_type": "stream",
     "text": [
      "--- O Gênero A --- \n",
      " ---- Subgênero ---- {'A.1': {'Título': 'Guia completo para empreendedor', 'Editora': 'Moderna', 'Nº de exemplares': 25, 'Valor R$': 23.78}, 'A.2': {'Título': 'Pai rico, pai pobre', 'Editora': 'Abril', 'Nº de exemplares': 15, 'Valor R$': 20.88}, 'A.3': {'Título': 'Almanaque de novelas', 'Editora': 'Globo ', 'Nº de exemplares': 30, 'Valor R$': 43.35}, 'A.4': {'Título': 'Guia de bolso: Crochê na prática', 'Editora': 'Saraiva', 'Nº de exemplares': 4, 'Valor R$': 12.08}} ---\n",
      " \n",
      "\n",
      "--- O Gênero B --- \n",
      " ---- Subgênero ---- {'B.1': {'Título': 'Introdução à Bioinformática', 'Editora': 'Moderna ', 'Nº de exemplares': 49, 'Valor R$': 25.68}, 'B.2': {'Título': 'Fisiologia Humana', 'Editora': 'Moderna ', 'Nº de exemplares': 12, 'Valor R$': 88.0}, 'B.3': {'Título': 'Livro de colorir: Anatomia Humana', 'Editora': 'Moderna', 'Nº de exemplares': 25, 'Valor R$': 61.0}} ---\n",
      " \n",
      "\n",
      "--- O Gênero C --- \n",
      " ---- Subgênero ---- {'C.1': {'Título': 'Romeu e Julieta', 'Editora': 'Vozes', 'Nº de exemplares': 22, 'Valor R$': 23.2}, 'C.2': {'Título': 'Jamais te esquecerei', 'Editora': 'Positivo', 'Nº de exemplares': 13, 'Valor R$': 45.6}, 'C.3': {'Título': 'Morro dos ventos uivantes', 'Editora': 'Rocco', 'Nº de exemplares': 48, 'Valor R$': 55.99}, 'C.4': {'Título': 'Flores do jardim', 'Editora': 'Saraiva', 'Nº de exemplares': 8, 'Valor R$': 60.0}} ---\n",
      " \n",
      "\n",
      "--- O Gênero D --- \n",
      " ---- Subgênero ---- {'D.1': {'Título': 'Introdução à Java', 'Editora': 'Moderna ', 'Nº de exemplares': 57, 'Valor R$': 15.0}, 'D.2': {'Título': 'Python Avançado', 'Editora': 'Positivo', 'Nº de exemplares': 27, 'Valor R$': 11.6}, 'D.3': {'Título': 'Guia de Montagem e manutenção de computadores', 'Editora': 'Vozes', 'Nº de exemplares': 6, 'Valor R$': 36.8}, 'D.4': {'Título': 'Arquitetura de redes', 'Editora': 'Abril ', 'Nº de exemplares': 17, 'Valor R$': 39.9}} ---\n",
      " \n",
      "\n",
      "--- O Gênero E --- \n",
      " ---- Subgênero ---- {'E.1': {'Título': 'Alice no país das maravilhas', 'Editora': 'Moderna ', 'Nº de exemplares': 15, 'Valor R$': 7.8}, 'E.2': {'Título': 'Senhor dos Anéis: Triologia', 'Editora': 'Vozes', 'Nº de exemplares': 19, 'Valor R$': 83.78}, 'E.3': {'Título': 'Harry Potter: O Cálice de fogo', 'Editora': 'Saraiva', 'Nº de exemplares': 25, 'Valor R$': 15.5}} ---\n",
      " \n",
      "\n"
     ]
    }
   ],
   "source": [
    "for x, y in livro.items():\n",
    "    print(\"--- O Gênero {} --- \\n ---- Subgênero ---- {} ---\\n \".format(x, y))\n",
    "    print('')"
   ]
  },
  {
   "cell_type": "markdown",
   "metadata": {},
   "source": [
    "Desenvolvido por **Pâmella Araujo Balcaçar**, Rondonópolis-MT, 23/12/2020."
   ]
  }
 ],
 "metadata": {
  "kernelspec": {
   "display_name": "Python 3",
   "language": "python",
   "name": "python3"
  },
  "language_info": {
   "codemirror_mode": {
    "name": "ipython",
    "version": 3
   },
   "file_extension": ".py",
   "mimetype": "text/x-python",
   "name": "python",
   "nbconvert_exporter": "python",
   "pygments_lexer": "ipython3",
   "version": "3.7.6"
  }
 },
 "nbformat": 4,
 "nbformat_minor": 4
}
