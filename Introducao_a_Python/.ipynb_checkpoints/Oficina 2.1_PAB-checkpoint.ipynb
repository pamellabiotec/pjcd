{
 "cells": [
  {
   "cell_type": "markdown",
   "metadata": {},
   "source": [
    "# Introdução a Python - Oficina 2.1"
   ]
  },
  {
   "cell_type": "markdown",
   "metadata": {},
   "source": [
    "Para iniciarmos nossa oficina, imagine que você tem um terreno e pretende construir uma cerca ao redor dele. Para saber quanto material gastará, você precisa calcular algumas coisas. Nesse caso, a planta do terreno fornecida pela prefeitura descreve os limites do seu terreno, como uma sucessão de pontos interligados por segmentos de reta, formando um polígono fechado, como ilustrado pela figura abaixo.\n",
    "\n",
    "A imagem mostra um gráfico de função (x,y). Nele, é apresentado um polígono fechado, ilustrando o terreno, formado por oito segmentos de reta. O ponto mais alto da coordenada Y recebe a marcação (x1,y1). Em sentido horário, o próximo ponto recebe a marcação (x2, y2) e o seguinte recebe a marcação (x3, y3).\n",
    "\n",
    "Cada um deste pontos, com coordenadas (x[i], y[i]), pode ser representado por uma lista de dois elementos. E o contorno do terreno pode, por sua vez, ser representado por uma lista destes pontos (medidos em metros) em sentido horário, como apresentado abaixo:\n",
    "\n",
    "terreno = [\n",
    "    [42.7, 71.9],\n",
    "    [38.9, 80.3],\n",
    "    [56.3, 88.9],\n",
    "    [70.7, 83.9],\n",
    "    [74.5, 69.7],\n",
    "    [47.9, 60.4],\n",
    "    [36.8, 62.6],\n",
    "    [56.8, 56.5],\n",
    "]\n",
    "\n",
    "Para fazer a cerca, você usará estacas e arame farpado, da seguinte forma:\n",
    "\n",
    "A quantidade de arame farpado por segmento é igual ao tamanho de cada segmento;\n",
    "Uma estaca é colocada em cada ponto;\n",
    "Em cada segmento, as estacas são colocadas em um intervalo de cerca de 2 metros.\n",
    "Lembre-se que o comprimento de um segmento s[i] entre os pontos (x[i], y[i]) e (x[i+1], y[i+1]) é dado pelo Teorema de Pitágoras, ou seja: s[i] = ((y[i+1]−y[i])^2+(x[i+1]−x[i])^2)^0.5\n",
    "\n",
    "E o número de estacas pode ser obtido como a parte inteira de s[i] dividido por 2.\n",
    "\n",
    "Agora, faça um programa para calcular, e imprimir, as seguintes informações:\n",
    "\n",
    "Duas listas: uma com a quantidade de arame usada por segmento, e outra com a quantidade de estacas por segmento (não contar as estacas dos extremos);\n",
    "O comprimento total de arame farpado utilizado;\n",
    "A quantidade total de estacas de madeira utilizada."
   ]
  },
  {
   "cell_type": "code",
   "execution_count": 31,
   "metadata": {},
   "outputs": [],
   "source": [
    "terreno = [ [42.7, 71.9], [38.9, 80.3], [56.3, 88.9], [70.7, 83.9], [74.5, 69.7], [47.9, 60.4], [36.8, 62.6], [56.8, 56.5], ]"
   ]
  },
  {
   "cell_type": "code",
   "execution_count": 41,
   "metadata": {},
   "outputs": [],
   "source": [
    "segmento_1 = terreno[0]\n",
    "segmento_2 = terreno[1]\n",
    "segmento_3 = terreno[2]\n",
    "segmento_4 = terreno[3]\n",
    "segmento_5 = terreno[4]\n",
    "segmento_6 = terreno[5]\n",
    "segmento_7 = terreno[6]\n",
    "segmento_8 = terreno[7]"
   ]
  },
  {
   "cell_type": "code",
   "execution_count": 42,
   "metadata": {},
   "outputs": [
    {
     "name": "stdout",
     "output_type": "stream",
     "text": [
      "A quantidade de alarme por segmento  [1.4142135623730951, 1.4142135623730951, 1.4142135623730951, 1.4142135623730951, 1.4142135623730951, 1.4142135623730951, 1.4142135623730951, 1.4142135623730951]\n"
     ]
    }
   ],
   "source": [
    "s1 = (((segmento_1[0] + 1) - segmento_1[0])**2 + ((segmento_1[1] + 1) - segmento_1[1])**2)**0.5\n",
    "s2 = (((segmento_2[0] + 1) - segmento_2[0])**2 + ((segmento_2[1] + 1) - segmento_2[1])**2)**0.5\n",
    "s3 = (((segmento_3[0] + 1) - segmento_3[0])**2 + ((segmento_3[1] + 1) - segmento_3[1])**2)**0.5\n",
    "s4 = (((segmento_4[0] + 1) - segmento_4[0])**2 + ((segmento_4[1] + 1) - segmento_4[1])**2)**0.5\n",
    "s5 = (((segmento_5[0] + 1) - segmento_5[0])**2 + ((segmento_5[1] + 1) - segmento_5[1])**2)**0.5\n",
    "s6 = (((segmento_6[0] + 1) - segmento_6[0])**2 + ((segmento_6[1] + 1) - segmento_6[1])**2)**0.5\n",
    "s7 = (((segmento_7[0] + 1) - segmento_7[0])**2 + ((segmento_7[1] + 1) - segmento_7[1])**2)**0.5\n",
    "s8 = (((segmento_8[0] + 1) - segmento_8[0])**2 + ((segmento_8[1] + 1) - segmento_8[1])**2)**0.5\n",
    "lista_1 = [s1, s2, s3, s4, s5, s6, s7, s8]\n",
    "print(\"A quantidade de alarme por segmento \", lista_1)"
   ]
  },
  {
   "cell_type": "code",
   "execution_count": 45,
   "metadata": {},
   "outputs": [
    {
     "name": "stdout",
     "output_type": "stream",
     "text": [
      "A quantidade de estacas por segmento  [0.7071067811865476, 0.7071067811865476, 0.7071067811865476, 0.7071067811865476, 0.7071067811865476, 0.7071067811865476, 0.7071067811865476, 0.7071067811865476]\n"
     ]
    }
   ],
   "source": [
    "e1 = s1/2\n",
    "e2 = s2/2\n",
    "e3 = s3/2\n",
    "e4 = s4/2\n",
    "e5 = s5/2\n",
    "e6 = s6/2\n",
    "e7 = s7/2\n",
    "e8 = s8/2\n",
    "lista_2 = [e1, e2, e3, e4, e5, e6, e7, e8]\n",
    "print(\"A quantidade de estacas por segmento \", lista_2)"
   ]
  },
  {
   "cell_type": "code",
   "execution_count": 46,
   "metadata": {},
   "outputs": [
    {
     "name": "stdout",
     "output_type": "stream",
     "text": [
      "Comprimento total de alarme farpado foi  11.313708498984763\n"
     ]
    }
   ],
   "source": [
    "total_arame = sum(lista_1)\n",
    "print(\"Comprimento total de alarme farpado foi \", total_arame)"
   ]
  },
  {
   "cell_type": "code",
   "execution_count": 48,
   "metadata": {},
   "outputs": [
    {
     "name": "stdout",
     "output_type": "stream",
     "text": [
      "Total de estacas utilizadas foram  5.6568542494923815\n"
     ]
    }
   ],
   "source": [
    "estacas_total = sum(lista_2)\n",
    "print(\"Total de estacas utilizadas foram \", estacas_total)"
   ]
  },
  {
   "cell_type": "markdown",
   "metadata": {},
   "source": [
    "Desenvolvido por **Pâmella Araujo Balcaçar**, Rondonópolis-MT, 17/12/2020."
   ]
  }
 ],
 "metadata": {
  "kernelspec": {
   "display_name": "Python 3",
   "language": "python",
   "name": "python3"
  },
  "language_info": {
   "codemirror_mode": {
    "name": "ipython",
    "version": 3
   },
   "file_extension": ".py",
   "mimetype": "text/x-python",
   "name": "python",
   "nbconvert_exporter": "python",
   "pygments_lexer": "ipython3",
   "version": "3.7.6"
  }
 },
 "nbformat": 4,
 "nbformat_minor": 4
}
