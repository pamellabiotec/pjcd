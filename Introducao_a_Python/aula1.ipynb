{
 "cells": [
  {
   "cell_type": "markdown",
   "metadata": {},
   "source": [
    "# Atribuindo valores a variáveis\n",
    "Neste <i>notebook</i> vamos atribuir valores e listar os tipos de cada uma das variáveis. Nesta primeira célula do tipo <i>Code</i> eu coloquei os dados de exemplo."
   ]
  },
  {
   "cell_type": "markdown",
   "metadata": {},
   "source": [
    "Assim, eu peço que você faça o seguinte: clique na célula abaixo para que você possa editá-la. Troque os dados de exemplo pelos seus dados. Após isto, execute a célula apertando em <i>Run</i>."
   ]
  },
  {
   "cell_type": "code",
   "execution_count": 1,
   "metadata": {},
   "outputs": [],
   "source": [
    "peso_usuario = 80.3\n",
    "idade_usuario = 34\n",
    "altura_usuário = 1.72\n",
    "nome_usuario = 'Rafael Carmo'"
   ]
  },
  {
   "cell_type": "markdown",
   "metadata": {},
   "source": [
    "Se tudo tiver dado certo, pronto você já atribuiu valores às variáveis acima listadas. Na aula, eu disse que o Python automaticamente descobre que tipo de dados você está querendo representar. Vamos verificar isto? Esta verificação se dá através do comando type(NOME_DA_VARIAVEL). Este comando retorna o tipo de dado que a variável entre os parênteses representa. Selecione e execute a célula abaixo para ver o resultado."
   ]
  },
  {
   "cell_type": "code",
   "execution_count": 2,
   "metadata": {},
   "outputs": [
    {
     "data": {
      "text/plain": [
       "float"
      ]
     },
     "execution_count": 2,
     "metadata": {},
     "output_type": "execute_result"
    }
   ],
   "source": [
    "type(peso_usuario)"
   ]
  },
  {
   "cell_type": "markdown",
   "metadata": {},
   "source": [
    "Excelente, não? Apareceu na tela o tipo de dado que queríamos, o tipo <i>float</i>. Execute a célula abaixo para apresentar o tipo de dado da variável idade_usuario."
   ]
  },
  {
   "cell_type": "code",
   "execution_count": 3,
   "metadata": {},
   "outputs": [
    {
     "data": {
      "text/plain": [
       "int"
      ]
     },
     "execution_count": 3,
     "metadata": {},
     "output_type": "execute_result"
    }
   ],
   "source": [
    "type(idade_usuario)"
   ]
  },
  {
   "cell_type": "markdown",
   "metadata": {},
   "source": [
    "Também está correto, não? Agora vamos criar nossas primeiras células. Clique no botão com o símbolo <b>+</b> , na parte esquerda da barra de opções. Este botão cria uma nova célula e, por padrão, ela é do tipo <i>Code</i>. Preencha esta célula com o código para descobrir o tipo da variável altura_usuário e depois crie uma nova célula para descobrir o tipo da variável nome_usuário."
   ]
  },
  {
   "cell_type": "code",
   "execution_count": 4,
   "metadata": {},
   "outputs": [
    {
     "data": {
      "text/plain": [
       "float"
      ]
     },
     "execution_count": 4,
     "metadata": {},
     "output_type": "execute_result"
    }
   ],
   "source": [
    "type(altura_usuário)"
   ]
  },
  {
   "cell_type": "code",
   "execution_count": 6,
   "metadata": {},
   "outputs": [
    {
     "data": {
      "text/plain": [
       "str"
      ]
     },
     "execution_count": 6,
     "metadata": {},
     "output_type": "execute_result"
    }
   ],
   "source": [
    "type(nome_usuario)"
   ]
  },
  {
   "cell_type": "code",
   "execution_count": null,
   "metadata": {},
   "outputs": [],
   "source": []
  }
 ],
 "metadata": {
  "kernelspec": {
   "display_name": "Python 3",
   "language": "python",
   "name": "python3"
  },
  "language_info": {
   "codemirror_mode": {
    "name": "ipython",
    "version": 3
   },
   "file_extension": ".py",
   "mimetype": "text/x-python",
   "name": "python",
   "nbconvert_exporter": "python",
   "pygments_lexer": "ipython3",
   "version": "3.7.6"
  }
 },
 "nbformat": 4,
 "nbformat_minor": 4
}
