{
 "cells": [
  {
   "cell_type": "markdown",
   "metadata": {},
   "source": [
    "# Oficina Aula 6\n",
    "\n",
    "Caro aluno, durante a aula você aprendeu a criar mapas interativos com o Kibana, representando diversos tipos de informações georreferenciadas. Isso possibilita uma exploração aprofundada de dados espaciais. Agora é hora de exercitar o que você aprendeu! Se ainda não tiver feito isso, você precisará ter o Elasticsearch e o Kibana instalados na sua máquina e carregar os dados de voos de amostra Sample flight data disponibilizados pelo Kibana em Sample data.\n",
    "\n",
    "Crie um novo mapa. Você irá utilizar esse mapa para continuar a explorar os dados de voo. Adicione as camadas a seguir:\n",
    "\n",
    "1. Crie uma camada de mapa coroplético, associando a cor de cada país a quantidade de voos que tiveram esse país como destino. Configure a visibilidade para a faixa 0 a 4.\n",
    "2. Crie uma camada de dados agregados em grade a partir das origens de voos na forma de grid rectangles. Associe a quantidade de voos a cor do retângulo. Configure a visibilidade para a faixa 4 a 24.\n",
    "3. Crie uma camada de dados agregados em grade a partir dos destinos de voos na forma de clusters. Associe a quantidade de voos ao tamanho do cluster e o preço médio da passagem a cor do cluster. Configure a visibilidade para a faixa 4 a 24. Em geral, existe uma relação entre a quantidade de voos de destino e de origem em uma região? Ou seja, locais com muitos voos de destino tendem a ter muitos voos de origem?\n",
    "\n",
    "Bom trabalho!"
   ]
  },
  {
   "cell_type": "markdown",
   "metadata": {},
   "source": [
    "# 1 - camada de mapa coroplético\n",
    "\n",
    "![imagem.png](MAPA_PAB_001.png)"
   ]
  },
  {
   "cell_type": "markdown",
   "metadata": {},
   "source": [
    "# 2 - Camada de dados agregados em grade a partir das origens de voos\n",
    "\n",
    "![imagem](MAPA_PAB_002.png)"
   ]
  },
  {
   "cell_type": "markdown",
   "metadata": {},
   "source": [
    "# 3 - Camada de dados agregados em grade a partir dos destinos de voos\n",
    "\n",
    "![imagem.png](MAPA_PAB_.png)"
   ]
  },
  {
   "cell_type": "markdown",
   "metadata": {},
   "source": [
    "Resposta: Sim, locais com muitos voos de destino tendem a ter muitos voos de origem."
   ]
  },
  {
   "cell_type": "markdown",
   "metadata": {},
   "source": [
    "Desenvolvido por **Pâmella Araújo Balcaçar**, Rondonópolis-MT, 14/02/2021."
   ]
  }
 ],
 "metadata": {
  "kernelspec": {
   "display_name": "Python 3",
   "language": "python",
   "name": "python3"
  },
  "language_info": {
   "codemirror_mode": {
    "name": "ipython",
    "version": 3
   },
   "file_extension": ".py",
   "mimetype": "text/x-python",
   "name": "python",
   "nbconvert_exporter": "python",
   "pygments_lexer": "ipython3",
   "version": "3.7.6"
  }
 },
 "nbformat": 4,
 "nbformat_minor": 4
}
