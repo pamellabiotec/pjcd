{
 "cells": [
  {
   "cell_type": "markdown",
   "metadata": {
    "papermill": {
     "duration": 0.010952,
     "end_time": "2020-10-01T00:23:41.557626",
     "exception": false,
     "start_time": "2020-10-01T00:23:41.546674",
     "status": "completed"
    },
    "tags": []
   },
   "source": [
    "Agora que você pode criar seus próprios gráficos de linha, é hora de aprender sobre mais tipos de gráfico!\n",
    "\n",
    "> A propósito, se esta é sua primeira experiência escrevendo código em Python, você deve estar _muito orgulhoso_ de tudo o que realizou até agora, porque nunca é fácil aprender uma habilidade completamente nova! Se você ficar com o micro-curso, notará que tudo ficará mais fácil (enquanto os gráficos que você construirá ficarão mais impressionantes!), Já que o código é bastante semelhante para todos os gráficos. Como qualquer habilidade, a codificação se torna natural com o tempo e com a repetição.\n",
    "\n",
    "Neste tutorial, você aprenderá sobre ** gráficos de barras ** e ** mapas de calor **.\n",
    "\n",
    "\n",
    "# Configuração do notebook\n",
    "\n",
    "Como sempre, começamos configurando o ambiente de codificação. (_Este código está oculto, mas você pode revelá-lo clicando no botão \"Código\" imediatamente abaixo deste texto, à direita_.)"
   ]
  },
  {
   "cell_type": "code",
   "execution_count": 1,
   "metadata": {
    "_kg_hide-input": true,
    "_kg_hide-output": true,
    "execution": {
     "iopub.execute_input": "2020-10-01T00:23:41.586356Z",
     "iopub.status.busy": "2020-10-01T00:23:41.585503Z",
     "iopub.status.idle": "2020-10-01T00:23:42.861578Z",
     "shell.execute_reply": "2020-10-01T00:23:42.862320Z"
    },
    "papermill": {
     "duration": 1.294778,
     "end_time": "2020-10-01T00:23:42.862543",
     "exception": false,
     "start_time": "2020-10-01T00:23:41.567765",
     "status": "completed"
    },
    "tags": []
   },
   "outputs": [
    {
     "name": "stdout",
     "output_type": "stream",
     "text": [
      "Setup Complete\n"
     ]
    }
   ],
   "source": [
    "import pandas as pd\n",
    "pd.plotting.register_matplotlib_converters()\n",
    "import matplotlib.pyplot as plt\n",
    "%matplotlib inline\n",
    "import seaborn as sns\n",
    "print(\"Setup Complete\")"
   ]
  },
  {
   "cell_type": "markdown",
   "metadata": {
    "papermill": {
     "duration": 0.011213,
     "end_time": "2020-10-01T00:23:42.884860",
     "exception": false,
     "start_time": "2020-10-01T00:23:42.873647",
     "status": "completed"
    },
    "tags": []
   },
   "source": [
    "# Seleção do dataset\n",
    "\n",
    "Neste tutorial, trabalharemos com um conjunto de dados do Departamento de Transporte dos EUA que rastreia atrasos de voos.\n",
    "\n",
    "Abrir este arquivo CSV no Excel mostra uma linha para cada mês (onde `1` = janeiro,` 2` = fevereiro, etc) e uma coluna para cada código de companhia aérea.\n",
    "\n",
    "![tut2_flight_delay_head](https://i.imgur.com/5nYs9se.png)\n",
    "\n",
    "Cada entrada mostra o atraso médio de chegada (em minutos) para uma companhia aérea e mês diferente (todos no ano de 2015). Entradas negativas indicam voos que (_em média_) tendiam a chegar mais cedo. Por exemplo, o voo médio da American Airlines (_código da companhia aérea: **AA**_) em janeiro chegou cerca de 7 minutos atrasado, e o voo médio da Alaska Airlines (_código da companhia aérea: **AS**_) em abril chegou com aproximadamente 3 minutos cedo.\n",
    "\n",
    "# Carregando os dados\n",
    "\n",
    "Como antes, carregamos o conjunto de dados usando o comando `pd.read_csv`"
   ]
  },
  {
   "cell_type": "code",
   "execution_count": 2,
   "metadata": {
    "execution": {
     "iopub.execute_input": "2020-10-01T00:23:42.917225Z",
     "iopub.status.busy": "2020-10-01T00:23:42.916298Z",
     "iopub.status.idle": "2020-10-01T00:23:42.937795Z",
     "shell.execute_reply": "2020-10-01T00:23:42.937021Z"
    },
    "papermill": {
     "duration": 0.042135,
     "end_time": "2020-10-01T00:23:42.937964",
     "exception": false,
     "start_time": "2020-10-01T00:23:42.895829",
     "status": "completed"
    },
    "tags": []
   },
   "outputs": [],
   "source": [
    "# Caminho do arquivo para ler\n",
    "flight_filepath = \"dataset/flight_delays.csv\"\n",
    "\n",
    "# Leia o arquivo em uma variável flight_data\n",
    "flight_data = pd.read_csv(flight_filepath, index_col=\"Month\")"
   ]
  },
  {
   "cell_type": "markdown",
   "metadata": {
    "papermill": {
     "duration": 0.01064,
     "end_time": "2020-10-01T00:23:42.959809",
     "exception": false,
     "start_time": "2020-10-01T00:23:42.949169",
     "status": "completed"
    },
    "tags": []
   },
   "source": [
    "Você pode notar que o código é um pouco mais curto do que o que usamos no tutorial anterior. Neste caso, como os rótulos das linhas (da coluna `'Mês'`) não correspondem às datas, não adicionamos` parse_dates = True` entre parênteses. Mas, mantemos as duas primeiras partes do texto como antes, para fornecer: \n",
    "- o caminho de arquivo para o conjunto de dados (neste caso, `flight_filepath`), e \n",
    "- o nome da coluna que será usada para indexar as linhas (neste caso, `index_col =\"Month\"`).\n",
    "\n",
    "# Analisando os dados\n",
    "\n",
    "Como o conjunto de dados é pequeno, podemos imprimir facilmente todo o seu conteúdo. Isso é feito escrevendo uma única linha de código com apenas o nome do conjunto de dados."
   ]
  },
  {
   "cell_type": "code",
   "execution_count": 3,
   "metadata": {
    "execution": {
     "iopub.execute_input": "2020-10-01T00:23:42.995114Z",
     "iopub.status.busy": "2020-10-01T00:23:42.994203Z",
     "iopub.status.idle": "2020-10-01T00:23:43.021067Z",
     "shell.execute_reply": "2020-10-01T00:23:43.021756Z"
    },
    "papermill": {
     "duration": 0.051716,
     "end_time": "2020-10-01T00:23:43.021988",
     "exception": false,
     "start_time": "2020-10-01T00:23:42.970272",
     "status": "completed"
    },
    "tags": []
   },
   "outputs": [
    {
     "data": {
      "text/html": [
       "<div>\n",
       "<style scoped>\n",
       "    .dataframe tbody tr th:only-of-type {\n",
       "        vertical-align: middle;\n",
       "    }\n",
       "\n",
       "    .dataframe tbody tr th {\n",
       "        vertical-align: top;\n",
       "    }\n",
       "\n",
       "    .dataframe thead th {\n",
       "        text-align: right;\n",
       "    }\n",
       "</style>\n",
       "<table border=\"1\" class=\"dataframe\">\n",
       "  <thead>\n",
       "    <tr style=\"text-align: right;\">\n",
       "      <th></th>\n",
       "      <th>AA</th>\n",
       "      <th>AS</th>\n",
       "      <th>B6</th>\n",
       "      <th>DL</th>\n",
       "      <th>EV</th>\n",
       "      <th>F9</th>\n",
       "      <th>HA</th>\n",
       "      <th>MQ</th>\n",
       "      <th>NK</th>\n",
       "      <th>OO</th>\n",
       "      <th>UA</th>\n",
       "      <th>US</th>\n",
       "      <th>VX</th>\n",
       "      <th>WN</th>\n",
       "    </tr>\n",
       "    <tr>\n",
       "      <th>Month</th>\n",
       "      <th></th>\n",
       "      <th></th>\n",
       "      <th></th>\n",
       "      <th></th>\n",
       "      <th></th>\n",
       "      <th></th>\n",
       "      <th></th>\n",
       "      <th></th>\n",
       "      <th></th>\n",
       "      <th></th>\n",
       "      <th></th>\n",
       "      <th></th>\n",
       "      <th></th>\n",
       "      <th></th>\n",
       "    </tr>\n",
       "  </thead>\n",
       "  <tbody>\n",
       "    <tr>\n",
       "      <th>1</th>\n",
       "      <td>6.955843</td>\n",
       "      <td>-0.320888</td>\n",
       "      <td>7.347281</td>\n",
       "      <td>-2.043847</td>\n",
       "      <td>8.537497</td>\n",
       "      <td>18.357238</td>\n",
       "      <td>3.512640</td>\n",
       "      <td>18.164974</td>\n",
       "      <td>11.398054</td>\n",
       "      <td>10.889894</td>\n",
       "      <td>6.352729</td>\n",
       "      <td>3.107457</td>\n",
       "      <td>1.420702</td>\n",
       "      <td>3.389466</td>\n",
       "    </tr>\n",
       "    <tr>\n",
       "      <th>2</th>\n",
       "      <td>7.530204</td>\n",
       "      <td>-0.782923</td>\n",
       "      <td>18.657673</td>\n",
       "      <td>5.614745</td>\n",
       "      <td>10.417236</td>\n",
       "      <td>27.424179</td>\n",
       "      <td>6.029967</td>\n",
       "      <td>21.301627</td>\n",
       "      <td>16.474466</td>\n",
       "      <td>9.588895</td>\n",
       "      <td>7.260662</td>\n",
       "      <td>7.114455</td>\n",
       "      <td>7.784410</td>\n",
       "      <td>3.501363</td>\n",
       "    </tr>\n",
       "    <tr>\n",
       "      <th>3</th>\n",
       "      <td>6.693587</td>\n",
       "      <td>-0.544731</td>\n",
       "      <td>10.741317</td>\n",
       "      <td>2.077965</td>\n",
       "      <td>6.730101</td>\n",
       "      <td>20.074855</td>\n",
       "      <td>3.468383</td>\n",
       "      <td>11.018418</td>\n",
       "      <td>10.039118</td>\n",
       "      <td>3.181693</td>\n",
       "      <td>4.892212</td>\n",
       "      <td>3.330787</td>\n",
       "      <td>5.348207</td>\n",
       "      <td>3.263341</td>\n",
       "    </tr>\n",
       "    <tr>\n",
       "      <th>4</th>\n",
       "      <td>4.931778</td>\n",
       "      <td>-3.009003</td>\n",
       "      <td>2.780105</td>\n",
       "      <td>0.083343</td>\n",
       "      <td>4.821253</td>\n",
       "      <td>12.640440</td>\n",
       "      <td>0.011022</td>\n",
       "      <td>5.131228</td>\n",
       "      <td>8.766224</td>\n",
       "      <td>3.223796</td>\n",
       "      <td>4.376092</td>\n",
       "      <td>2.660290</td>\n",
       "      <td>0.995507</td>\n",
       "      <td>2.996399</td>\n",
       "    </tr>\n",
       "    <tr>\n",
       "      <th>5</th>\n",
       "      <td>5.173878</td>\n",
       "      <td>-1.716398</td>\n",
       "      <td>-0.709019</td>\n",
       "      <td>0.149333</td>\n",
       "      <td>7.724290</td>\n",
       "      <td>13.007554</td>\n",
       "      <td>0.826426</td>\n",
       "      <td>5.466790</td>\n",
       "      <td>22.397347</td>\n",
       "      <td>4.141162</td>\n",
       "      <td>6.827695</td>\n",
       "      <td>0.681605</td>\n",
       "      <td>7.102021</td>\n",
       "      <td>5.680777</td>\n",
       "    </tr>\n",
       "    <tr>\n",
       "      <th>6</th>\n",
       "      <td>8.191017</td>\n",
       "      <td>-0.220621</td>\n",
       "      <td>5.047155</td>\n",
       "      <td>4.419594</td>\n",
       "      <td>13.952793</td>\n",
       "      <td>19.712951</td>\n",
       "      <td>0.882786</td>\n",
       "      <td>9.639323</td>\n",
       "      <td>35.561501</td>\n",
       "      <td>8.338477</td>\n",
       "      <td>16.932663</td>\n",
       "      <td>5.766296</td>\n",
       "      <td>5.779415</td>\n",
       "      <td>10.743462</td>\n",
       "    </tr>\n",
       "    <tr>\n",
       "      <th>7</th>\n",
       "      <td>3.870440</td>\n",
       "      <td>0.377408</td>\n",
       "      <td>5.841454</td>\n",
       "      <td>1.204862</td>\n",
       "      <td>6.926421</td>\n",
       "      <td>14.464543</td>\n",
       "      <td>2.001586</td>\n",
       "      <td>3.980289</td>\n",
       "      <td>14.352382</td>\n",
       "      <td>6.790333</td>\n",
       "      <td>10.262551</td>\n",
       "      <td>NaN</td>\n",
       "      <td>7.135773</td>\n",
       "      <td>10.504942</td>\n",
       "    </tr>\n",
       "    <tr>\n",
       "      <th>8</th>\n",
       "      <td>3.193907</td>\n",
       "      <td>2.503899</td>\n",
       "      <td>9.280950</td>\n",
       "      <td>0.653114</td>\n",
       "      <td>5.154422</td>\n",
       "      <td>9.175737</td>\n",
       "      <td>7.448029</td>\n",
       "      <td>1.896565</td>\n",
       "      <td>20.519018</td>\n",
       "      <td>5.606689</td>\n",
       "      <td>5.014041</td>\n",
       "      <td>NaN</td>\n",
       "      <td>5.106221</td>\n",
       "      <td>5.532108</td>\n",
       "    </tr>\n",
       "    <tr>\n",
       "      <th>9</th>\n",
       "      <td>-1.432732</td>\n",
       "      <td>-1.813800</td>\n",
       "      <td>3.539154</td>\n",
       "      <td>-3.703377</td>\n",
       "      <td>0.851062</td>\n",
       "      <td>0.978460</td>\n",
       "      <td>3.696915</td>\n",
       "      <td>-2.167268</td>\n",
       "      <td>8.000101</td>\n",
       "      <td>1.530896</td>\n",
       "      <td>-1.794265</td>\n",
       "      <td>NaN</td>\n",
       "      <td>0.070998</td>\n",
       "      <td>-1.336260</td>\n",
       "    </tr>\n",
       "    <tr>\n",
       "      <th>10</th>\n",
       "      <td>-0.580930</td>\n",
       "      <td>-2.993617</td>\n",
       "      <td>3.676787</td>\n",
       "      <td>-5.011516</td>\n",
       "      <td>2.303760</td>\n",
       "      <td>0.082127</td>\n",
       "      <td>0.467074</td>\n",
       "      <td>-3.735054</td>\n",
       "      <td>6.810736</td>\n",
       "      <td>1.750897</td>\n",
       "      <td>-2.456542</td>\n",
       "      <td>NaN</td>\n",
       "      <td>2.254278</td>\n",
       "      <td>-0.688851</td>\n",
       "    </tr>\n",
       "    <tr>\n",
       "      <th>11</th>\n",
       "      <td>0.772630</td>\n",
       "      <td>-1.916516</td>\n",
       "      <td>1.418299</td>\n",
       "      <td>-3.175414</td>\n",
       "      <td>4.415930</td>\n",
       "      <td>11.164527</td>\n",
       "      <td>-2.719894</td>\n",
       "      <td>0.220061</td>\n",
       "      <td>7.543881</td>\n",
       "      <td>4.925548</td>\n",
       "      <td>0.281064</td>\n",
       "      <td>NaN</td>\n",
       "      <td>0.116370</td>\n",
       "      <td>0.995684</td>\n",
       "    </tr>\n",
       "    <tr>\n",
       "      <th>12</th>\n",
       "      <td>4.149684</td>\n",
       "      <td>-1.846681</td>\n",
       "      <td>13.839290</td>\n",
       "      <td>2.504595</td>\n",
       "      <td>6.685176</td>\n",
       "      <td>9.346221</td>\n",
       "      <td>-1.706475</td>\n",
       "      <td>0.662486</td>\n",
       "      <td>12.733123</td>\n",
       "      <td>10.947612</td>\n",
       "      <td>7.012079</td>\n",
       "      <td>NaN</td>\n",
       "      <td>13.498720</td>\n",
       "      <td>6.720893</td>\n",
       "    </tr>\n",
       "  </tbody>\n",
       "</table>\n",
       "</div>"
      ],
      "text/plain": [
       "             AA        AS         B6        DL         EV         F9  \\\n",
       "Month                                                                  \n",
       "1      6.955843 -0.320888   7.347281 -2.043847   8.537497  18.357238   \n",
       "2      7.530204 -0.782923  18.657673  5.614745  10.417236  27.424179   \n",
       "3      6.693587 -0.544731  10.741317  2.077965   6.730101  20.074855   \n",
       "4      4.931778 -3.009003   2.780105  0.083343   4.821253  12.640440   \n",
       "5      5.173878 -1.716398  -0.709019  0.149333   7.724290  13.007554   \n",
       "6      8.191017 -0.220621   5.047155  4.419594  13.952793  19.712951   \n",
       "7      3.870440  0.377408   5.841454  1.204862   6.926421  14.464543   \n",
       "8      3.193907  2.503899   9.280950  0.653114   5.154422   9.175737   \n",
       "9     -1.432732 -1.813800   3.539154 -3.703377   0.851062   0.978460   \n",
       "10    -0.580930 -2.993617   3.676787 -5.011516   2.303760   0.082127   \n",
       "11     0.772630 -1.916516   1.418299 -3.175414   4.415930  11.164527   \n",
       "12     4.149684 -1.846681  13.839290  2.504595   6.685176   9.346221   \n",
       "\n",
       "             HA         MQ         NK         OO         UA        US  \\\n",
       "Month                                                                   \n",
       "1      3.512640  18.164974  11.398054  10.889894   6.352729  3.107457   \n",
       "2      6.029967  21.301627  16.474466   9.588895   7.260662  7.114455   \n",
       "3      3.468383  11.018418  10.039118   3.181693   4.892212  3.330787   \n",
       "4      0.011022   5.131228   8.766224   3.223796   4.376092  2.660290   \n",
       "5      0.826426   5.466790  22.397347   4.141162   6.827695  0.681605   \n",
       "6      0.882786   9.639323  35.561501   8.338477  16.932663  5.766296   \n",
       "7      2.001586   3.980289  14.352382   6.790333  10.262551       NaN   \n",
       "8      7.448029   1.896565  20.519018   5.606689   5.014041       NaN   \n",
       "9      3.696915  -2.167268   8.000101   1.530896  -1.794265       NaN   \n",
       "10     0.467074  -3.735054   6.810736   1.750897  -2.456542       NaN   \n",
       "11    -2.719894   0.220061   7.543881   4.925548   0.281064       NaN   \n",
       "12    -1.706475   0.662486  12.733123  10.947612   7.012079       NaN   \n",
       "\n",
       "              VX         WN  \n",
       "Month                        \n",
       "1       1.420702   3.389466  \n",
       "2       7.784410   3.501363  \n",
       "3       5.348207   3.263341  \n",
       "4       0.995507   2.996399  \n",
       "5       7.102021   5.680777  \n",
       "6       5.779415  10.743462  \n",
       "7       7.135773  10.504942  \n",
       "8       5.106221   5.532108  \n",
       "9       0.070998  -1.336260  \n",
       "10      2.254278  -0.688851  \n",
       "11      0.116370   0.995684  \n",
       "12     13.498720   6.720893  "
      ]
     },
     "execution_count": 3,
     "metadata": {},
     "output_type": "execute_result"
    }
   ],
   "source": [
    "# Imprimir os dados\n",
    "flight_data"
   ]
  },
  {
   "cell_type": "markdown",
   "metadata": {
    "papermill": {
     "duration": 0.011591,
     "end_time": "2020-10-01T00:23:43.045416",
     "exception": false,
     "start_time": "2020-10-01T00:23:43.033825",
     "status": "completed"
    },
    "tags": []
   },
   "source": [
    "# Gráfico de barras\n",
    "\n",
    "Digamos que gostaríamos de criar um gráfico de barras mostrando o atraso médio de chegada dos voos da Spirit Airlines (_código da companhia aérea: **NK**_), por mês."
   ]
  },
  {
   "cell_type": "code",
   "execution_count": 4,
   "metadata": {
    "execution": {
     "iopub.execute_input": "2020-10-01T00:23:43.079323Z",
     "iopub.status.busy": "2020-10-01T00:23:43.078437Z",
     "iopub.status.idle": "2020-10-01T00:23:43.394010Z",
     "shell.execute_reply": "2020-10-01T00:23:43.393262Z"
    },
    "papermill": {
     "duration": 0.33479,
     "end_time": "2020-10-01T00:23:43.394199",
     "exception": false,
     "start_time": "2020-10-01T00:23:43.059409",
     "status": "completed"
    },
    "tags": []
   },
   "outputs": [
    {
     "data": {
      "text/plain": [
       "Text(0, 0.5, 'Arrival delay (in minutes)')"
      ]
     },
     "execution_count": 4,
     "metadata": {},
     "output_type": "execute_result"
    },
    {
     "data": {
      "image/png": "[encoded data removed]",
      "text/plain": [
       "<Figure size 720x432 with 1 Axes>"
      ]
     },
     "metadata": {
      "needs_background": "light"
     },
     "output_type": "display_data"
    }
   ],
   "source": [
    "# Definição da largura e altura da figura\n",
    "plt.figure(figsize=(10,6))\n",
    "\n",
    "# Adição do título\n",
    "plt.title(\"Average Arrival Delay for Spirit Airlines Flights, by Month\")\n",
    "\n",
    "# Gráfico de barras mostrando atraso médio na chegada dos voos da Spirit Airlines por mês\n",
    "sns.barplot(x=flight_data.index, y=flight_data['NK'])\n",
    "\n",
    "# Adicão do rótulo para eixo vertical\n",
    "plt.ylabel(\"Arrival delay (in minutes)\")"
   ]
  },
  {
   "cell_type": "markdown",
   "metadata": {
    "papermill": {
     "duration": 0.012263,
     "end_time": "2020-10-01T00:23:43.421548",
     "exception": false,
     "start_time": "2020-10-01T00:23:43.409285",
     "status": "completed"
    },
    "tags": []
   },
   "source": [
    "Os comandos para personalizar o texto (título e rótulo do eixo vertical) e o tamanho da figura são familiares do tutorial anterior. O código que cria o gráfico de barras é novo:\n",
    "\n",
    "```python\n",
    "# Gráfico de barras mostrando atraso médio na chegada dos voos da Spirit Airlines por mês\n",
    "sns.barplot(x=flight_data.index, y=flight_data['NK'])\n",
    "```\n",
    "\n",
    "Possui três componentes principais:\n",
    "- `sns.barplot` - Isso informa ao notebook que queremos criar um gráfico de barras.\n",
    " - _Lembre-se disso `sns` refere-se a [seaborn](https://seaborn.pydata.org/) pacote, e todos os comandos que você usa para criar gráficos neste curso começarão com este prefixo._\n",
    "- `x=flight_data.index` - Isso determina o que usar no eixo horizontal. Neste caso, selecionamos a coluna que ** _ índice _ ** es as linhas (neste caso, a coluna que contém os meses).\n",
    "- `y=flight_data['NK']` - Isso define a coluna nos dados que serão usados para determinar a altura de cada barra. Neste caso, selecionamos a coluna `'NK'`.\n",
    "\n",
    "> **Nota importante**: Você deve selecionar a coluna de indexação com`flight_data.index`, e não é possível usar `flight_data['Month']` (_que retornará um erro_). Isso ocorre porque quando carregamos o conjunto de dados, a coluna `\"Month\"` foi usado para indexar as linhas. ** Sempre precisamos usar essa notação especial para selecionar a coluna de indexação. **\n",
    "\n",
    "# Heatmap ou Mapa de Calor\n",
    "\n",
    "Temos mais um tipo de gráfico para aprender sobre: **mapas de calor**!\n",
    "\n",
    "Na célula de código abaixo, criamos um mapa de calor para visualizar rapidamente os padrões em `flight_data`.  Cada célula é codificada por cores de acordo com seu valor correspondente."
   ]
  },
  {
   "cell_type": "code",
   "execution_count": 5,
   "metadata": {
    "execution": {
     "iopub.execute_input": "2020-10-01T00:23:43.471450Z",
     "iopub.status.busy": "2020-10-01T00:23:43.469969Z",
     "iopub.status.idle": "2020-10-01T00:23:44.374740Z",
     "shell.execute_reply": "2020-10-01T00:23:44.375401Z"
    },
    "papermill": {
     "duration": 0.9397,
     "end_time": "2020-10-01T00:23:44.375599",
     "exception": false,
     "start_time": "2020-10-01T00:23:43.435899",
     "status": "completed"
    },
    "tags": []
   },
   "outputs": [
    {
     "data": {
      "text/plain": [
       "Text(0.5, 42.0, 'Airline')"
      ]
     },
     "execution_count": 5,
     "metadata": {},
     "output_type": "execute_result"
    },
    {
     "data": {
      "image/png": "[encoded data removed]",
      "text/plain": [
       "<Figure size 1008x504 with 2 Axes>"
      ]
     },
     "metadata": {
      "needs_background": "light"
     },
     "output_type": "display_data"
    }
   ],
   "source": [
    "# Defina a largura e altura da figura\n",
    "plt.figure(figsize=(14,7))\n",
    "\n",
    "# Adicione o título\n",
    "plt.title(\"Average Arrival Delay for Each Airline, by Month\")\n",
    "\n",
    "# Mapa de calor mostrando atraso médio na chegada de cada companhia aérea por mês\n",
    "sns.heatmap(data=flight_data, annot=True)\n",
    "\n",
    "# Adicione a label no eixo horizontal\n",
    "plt.xlabel(\"Airline\")"
   ]
  },
  {
   "cell_type": "markdown",
   "metadata": {
    "papermill": {
     "duration": 0.015326,
     "end_time": "2020-10-01T00:23:44.407337",
     "exception": false,
     "start_time": "2020-10-01T00:23:44.392011",
     "status": "completed"
    },
    "tags": []
   },
   "source": [
    "O código relevante para criar o mapa de calor é o seguinte:\n",
    "```python\n",
    "# Mapa de calor mostrando atraso médio na chegada de cada companhia aérea por mês\n",
    "sns.heatmap(data=flight_data, annot=True)\n",
    "```\n",
    "Este código tem três componentes principais:\n",
    "- `sns.heatmap` - Isso informa ao notebook que queremos criar um mapa de calor.\n",
    "- `data=flight_data` - Isso diz ao jupyter notebook para usar todas as entradas em `flight_data` para criar o mapa de calor.\n",
    "- `annot=True` - Isso garante que os valores de cada célula apareçam no gráfico. (_Deixar isso remove os números de cada uma das células!_)\n",
    "\n",
    "_Que padrões você consegue detectar na tabela? Por exemplo, se você olhar de perto, os meses do final do ano (especialmente os meses 9-11) parecem relativamente escuros para todas as companhias aéreas. Isso sugere que as companhias aéreas são melhores (em média) em manter a programação durante esses meses!_ \n",
    "\n",
    "# Qual é o próximo?\n",
    "\n",
    "Crie suas próprias visualizações com um **[exercício de codificação](https://www.kaggle.com/kernels/fork/2951537)**!"
   ]
  },
  {
   "cell_type": "markdown",
   "metadata": {
    "papermill": {
     "duration": 0.01522,
     "end_time": "2020-10-01T00:23:44.438415",
     "exception": false,
     "start_time": "2020-10-01T00:23:44.423195",
     "status": "completed"
    },
    "tags": []
   },
   "source": [
    "---\n",
    "\n",
    "\n",
    "\n",
    "\n",
    "*Tem perguntas ou comentários? Visite a [Learn Discussion forum](https://www.kaggle.com/learn-forum/161291) para conversar com outros aprendizes.*"
   ]
  }
 ],
 "metadata": {
  "kernelspec": {
   "display_name": "Python 3",
   "language": "python",
   "name": "python3"
  },
  "language_info": {
   "codemirror_mode": {
    "name": "ipython",
    "version": 3
   },
   "file_extension": ".py",
   "mimetype": "text/x-python",
   "name": "python",
   "nbconvert_exporter": "python",
   "pygments_lexer": "ipython3",
   "version": "3.8.5"
  },
  "papermill": {
   "duration": 8.831678,
   "end_time": "2020-10-01T00:23:44.567609",
   "environment_variables": {},
   "exception": null,
   "input_path": "__notebook__.ipynb",
   "output_path": "__notebook__.ipynb",
   "parameters": {},
   "start_time": "2020-10-01T00:23:35.735931",
   "version": "2.1.0"
  }
 },
 "nbformat": 4,
 "nbformat_minor": 2
}
