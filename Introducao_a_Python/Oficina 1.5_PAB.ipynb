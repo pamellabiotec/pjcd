{
 "cells": [
  {
   "cell_type": "markdown",
   "metadata": {},
   "source": [
    "# Introdução a Python - Oficina 1.5 \n",
    "\n",
    "**Números primos** são números naturais maiores que 1 e não são produtos de dois outros números naturais positivos. Por exemplo, 5 é um número primo, pois não existe par de números entre 2 e 4 cuja multiplicação é igual a 5. Já 6 não é um número primo, pois existe um par entre 2 e 5 cujo resultado é igual a 6, o par é 2 e 3. Números primos são muito úteis em computação e despertam a curiosidade de matemáticos há séculos. Para essa oficina, você vai usar uma definição diferente, da apresentada acima, mas equivalente. _Observe: um número X é primo se para todo número N entre 2 e X – 1, o resto da divisão entre X e N é diferente de 0_. Seguindo essa lógica, desenvolva um notebook Jupyter com um programa Python que apresente textualmente todos os números primos entre 2 e 100 (incluindo o valor 100). Para tal, seu programa deve percorrer todos os números nesse intervalo e testar individualmente cada um, vendo se ele é primo ou não. Caso o número seja primo, você deve imprimir o valor em tela, caso não seja, deve simplesmente ignorá-lo."
   ]
  },
  {
   "cell_type": "code",
   "execution_count": 1,
   "metadata": {},
   "outputs": [
    {
     "name": "stdout",
     "output_type": "stream",
     "text": [
      "O número primo é 2\n",
      "O número primo é 3\n",
      "O número primo é 5\n",
      "O número primo é 7\n",
      "O número primo é 11\n",
      "O número primo é 13\n",
      "O número primo é 17\n",
      "O número primo é 19\n",
      "O número primo é 23\n",
      "O número primo é 29\n",
      "O número primo é 31\n",
      "O número primo é 37\n",
      "O número primo é 41\n",
      "O número primo é 43\n",
      "O número primo é 47\n",
      "O número primo é 53\n",
      "O número primo é 59\n",
      "O número primo é 61\n",
      "O número primo é 67\n",
      "O número primo é 71\n",
      "O número primo é 73\n",
      "O número primo é 79\n",
      "O número primo é 83\n",
      "O número primo é 89\n",
      "O número primo é 97\n"
     ]
    }
   ],
   "source": [
    "for x in range(2, 101):\n",
    "    if x == 2 or x == 3 or x == 5 or x == 7:\n",
    "         print(\"O número primo é \"+ str(x));\n",
    "    elif x % 2 != 0 and x % 3 != 0 and x % 5 != 0 and x % 7 != 0: \n",
    "        print(\"O número primo é \"+ str(x));  \n",
    "                       "
   ]
  },
  {
   "cell_type": "markdown",
   "metadata": {},
   "source": [
    "Desenvolvido por **Pâmella Araújo Balcaçar**, Rondonópolis-MT, 07/12/2020."
   ]
  }
 ],
 "metadata": {
  "kernelspec": {
   "display_name": "Python 3",
   "language": "python",
   "name": "python3"
  },
  "language_info": {
   "codemirror_mode": {
    "name": "ipython",
    "version": 3
   },
   "file_extension": ".py",
   "mimetype": "text/x-python",
   "name": "python",
   "nbconvert_exporter": "python",
   "pygments_lexer": "ipython3",
   "version": "3.7.6"
  }
 },
 "nbformat": 4,
 "nbformat_minor": 4
}
