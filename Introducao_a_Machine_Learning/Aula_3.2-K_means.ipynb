{
 "cells": [
  {
   "cell_type": "markdown",
   "metadata": {},
   "source": [
    "# Introdução a Machine Learning\n",
    "\n",
    "## K- Means\n",
    "\n",
    "#### Clusterização com K-means\n",
    "\n",
    "Olá, seja bem-vindo!\n",
    "\n",
    "Durante este curso, você aprendeu sobre “**clusterização**”, a técnica de Machine Learning que faz parte do aprendizado não supervisionado, também conhecida como “análise de agrupamentos”, está lembrado? Então, nesta aula, seráabordado um dos mais renomados algoritmos não hierárquicos na análise de clusters, o algoritmo **K-means**. Ficou curioso para saber como funciona? Vamos lá!\n",
    "\n",
    "Para agrupar dados não rotulados e que possuem características semelhantes, diversos sistemas utilizam a clusterização. Para realizar essa tarefa, existem vários algoritmos, sendo um dos mais simples e populares algoritmos de clustering, o **K-means**, que você, agora, vai conhecer e entender como funciona. \n",
    "\n",
    "Inicialmente, vamos falar sobre a definição do K-means. Ele é um algoritmo não hierárquico, que tem o objetivo de agrupar os dados em k clusters diferentes. Para entender como o K-means funciona é preciso, primeiro, definir o conceito de centróide de um cluster.\n",
    "\n",
    "Um centróide representa o centro de um cluster e é obtido pelo valor médio dos dados que estão dentro desse cluster. Assim, o algoritmo K-means encontra, iterativamente, o centróide de cada cluster através de uma medida de distância, de forma que cada cluster contenha os dados, cuja distância entre eles e o centróide seja mínima. O algoritmo K-means pode ser representado pelas seguintes etapas:\n",
    "\n",
    "1 - Divida os dados em k grupos com centróides criadas aleatoriamente\n",
    "2 - **repita até que a condição seja satisfeita**:\n",
    "3 - | calcule a distância de cada objeto ao centróide\n",
    "|\n",
    "4 - | atribuir o objeto para o grupo com menor distância ao centróide\n",
    "|\n",
    "5 - | atualize o centróide de cada grupo\n",
    "\n",
    "Graficamente, as etapas podem ser expressas da seguinte forma: Os passos do algoritmo K-means estão ligados por setas e cada passo é ilustrado por três grupos de círculos, representando os dados, com um símbolo de + colorido.\n",
    "\n",
    "No primeiro passo, o da “Inicialização de meio”, o grupo à esquerda tem um símbolo de + azul, o da direita tem um símbolo de + em vermelho e o de cima tem um símbolo de + verde. Todos os grupos são da cor cinza.\n",
    "\n",
    "No segundo passo, o da “Atribuição de grupo”, os grupos agora estão coloridos e estão divididos por três linhas. À esquerda, sobre um fundo azul, há o grupo azul com o + azul. À direita, sobre um fundo vermelho, existe o grupo vermelho com o + vermelho. Em cima, sobre um fundo verde, encontra-se o grupo verde com o + verde. Alguns círculos de um grupo cruzam parcialmente a linha do outro grupo.\n",
    "\n",
    "No terceiro passo, o da “Atualização de meio”, as linhas e os fundos sumiram, mas os grupos ainda mantêm a mesma posição do passo 2, com alguns círculos de um grupo próximo de outro. Sobre esse passo, há um símbolo de atualização.\n",
    "\n",
    "No quarto passo, o da “**Convergência**”, os grupos estão claramente separados entre si, sem nenhum círculo de um grupo se aproximando de outro. \n",
    "\n",
    "![imagem.png](imagem/figura_3.2_1.png)\n",
    "\n",
    "O algoritmo realizará esses passos até que uma condição de parada seja satisfeita. Essa condição de parada é conhecida como convergência, e pode ser representada, por exemplo, pela soma do erro quadrático, do inglês **SSE (Sum of Squared Errors)**. Ele representa a soma das diferenças ao quadrado, entre cada observação e a média do grupo em um conjunto de dados.\n",
    "\n",
    "![imagem.png](imagem/figura_3.2_2.png)\n",
    "\n",
    "Agora que você já entendeu como o algoritmo funciona, deve haver o seguinte questionamento: como o valor de k deverá ser escolhido? Bem, vamos lá!\n",
    "\n",
    "Na literatura, um dos métodos mais populares de encontrar o valor de k é o método **Elbow**, que consiste em plotar a variância dos dados em função do número de clusters. Desse modo, a partir do ponto em que os valores de k crescem e os valores de variância não mudam de forma significativa, esse ponto é o melhor valor para k.\n",
    "\n",
    "Sendo assim, o método **Elbow**, também conhecido como **método do cotovelo**, cujo apelido se deve, além da tradução literal de Elbow ser “cotovelo”, à curva formada por ele também lembra o formato de um cotovelo.\n",
    "\n",
    "A representação gráfica desse método é formada por dois eixos. O eixo Y, na vertical, representa a variância. O eixo X, na horizontal, representa o número de clusters. Ao lado, há a letra k. No gráfico, existe uma linha com vários pontos vermelhos que se assemelha a um cotovelo. No quarto ponto, na “dobra” do cotovelo, encontra-se uma seta com a mensagem “Valor de k pelo método Elbow”.\n",
    "\n",
    "![imagem.png](imagem/figura_3.2_3.png)\n",
    "\n",
    "Agora, de forma prática, no ambiente do jupyter, você vai aplicar o algoritmo K-means, usando a biblioteca scikit-learn em um conjunto de dados, tudo bem?\n",
    "\n",
    "Para isso, utilize uma base de dados criada para fins didáticos, que representa informações básicas dos clientes de um shopping. Depois, use o algoritmo K-means para identificar possíveis grupos de clientes.\n",
    "\n",
    "Inicialmente, com o ambiente do jupyter aberto, localize e importe as bibliotecas numpy, pandas e matplotlib. Para isso, escreva, na primeira linha, o comando “import numpy as np”; na segunda, “import pandas as pd”; e, na terceira, “import matplotlib.pyplot as plt”.\n",
    "\n",
    "``\n",
    "import numpy as np\n",
    "import pandas as pd\n",
    "import matplotlib.pyplot as plt\n",
    "``\n",
    "\n",
    "Em seguida, você deve fazer a leitura dos dados dos clientes usando o método pd.read_csv do pandas. Para isso, escreva o comando “df = pd.read_csv('Mall_Customers.csv')” e, para localizar as primeiras linhas do arquivo, escreva df.head().\n",
    "\n",
    "``\n",
    "df = pd.read_csv('dataset/Mall_Customers.csv')\n",
    "df.head()\n",
    "``\n",
    "\n",
    "![imagem.png](imagem/figura_3.2_4.png)\n",
    "\n",
    "O dataframe é constituído por uma tabela com 5 colunas. A primeira delas é a **CustomerID**, que representa uma identificação para o cliente. A segunda coluna, a **Gender**, faz referência ao gênero do cliente. A terceira é a **Age**, que representa a idade. Já a quarta coluna, a Annual Income, é a renda anual do cliente em dólares multiplicados por mil. E por fim, a quinta e última coluna do exemplo, a Spending Score, que representa um score de 1 a 100 atribuído ao cliente, de acordo com\n",
    "comportamento de compras.\n",
    "\n",
    "Para saber o número de registros do dataframe, você deve usar o método shape:\n",
    "\n",
    "``\n",
    "df.shape\n",
    "(200,5)\n",
    "``\n",
    "\n",
    "Então, o dataframe possui 200 linhas e 5 colunas com os registros. Para saber se existem dados nulos, o comando utilizado é o “df.isnull().sum()”, que mostra a soma dos registros que são nulos. Conforme a demonstração, na parte superior estará escrito “Verificar dados nulos” e logo abaixo, o comando “df.isnull ().sum ()” e o resultado:\n",
    "\n",
    "![imagem.png](imagem/figura_3.2_5.png)\n",
    "\n",
    "Logo, é possível identificar que não existem dados nulos em nossa base de dados.\n",
    "\n",
    "![imagem.png](imagem/figura_3.2_6.png)\n",
    "\n",
    "Você também pode obter algumas informações estatísticas sobre os dados e, para isso, basta utilizar o comando “df.describe()”. Na demonstração, após a utilização do comando, foram exibidas as “Informações estatísticas” de oito clientes em forma de tabela.\n",
    "\n",
    "A tabela tem cinco colunas, A primeira coluna apresenta os tipos estatísticos, que são: “count”, “mean”, “std”, “min”, “25%”, “50%”, “75%” e “max”. A segunda é a CustomerID, que é a identificação do cliente. Na terceira coluna denominada de Age, temos a representação da idade do cliente, Já a quarta coluna, a Annual Income (k$), traz a renda anual do cliente. E a quinta e última coluna é a Spending\n",
    "Score (1-100), que traz um score ou um número, que representa o comportamento de compras do cliente.\n",
    "\n",
    "![imagem.png](imagem/figura_3.2_7.png)\n",
    "\n",
    "Com essas informações sobre os dados, você pode saber, por exemplo, que o cliente, que possui a maior idade, tem 70 anos; e que o cliente mais novo tem 18 anos. Além disso, é possível saber que 75% dos clientes possuem renda anual de 78 mil dólares.\n",
    "\n",
    "Então, agora, gere um gráfico com a renda anual versus o score dos clientes, usando a biblioteca matplotlib. Para isso, escreva “plt.scatter(df['Annual Income (k$)'], df['Spending Score (1-100)'], marker='.')”. Em seguida, escreva os comandos para plotar o título do eixo x e do eixo y, “plt.xlabel('Renda Anual [k$]')” e “plt.ylabel('Score (1-100)')”, finalizando com “plt.show()”.\n",
    "\n",
    "Será gerado um gráfico de dispersão que representa a renda anual versus o score dos clientes. O gráfico possui dois eixos: O eixo Y, na vertical, é o Score (1- 100) dos clientes, e apresenta os valores 0, 20, 40, 60, 80, 100. O eixo X, na horizontal, é a Renda Anula (k$) e apresenta os valores 20, 40, 60, 80, 100, 120 e 140. Como resultado, há vários pontos azuis espalhados, sendo o maior\n",
    "agrupamento de pontos entre 60 e 40 no score e renda anual entre 40 e 70.\n",
    "\n",
    "![imagem.png](imagem/figura_3.2_8.png)\n",
    "\n",
    "Agora, selecione os dados de renda anual e de score que serão usados como entrada para a clusterização, pois você pode agrupar o cliente de acordo com o score, certo? Para isso, escreva, para a variável X, o comando “X = df[['Annual Income (k$)' e 'Spending Score (1-100)']]”, utilizando o comando “X.head()” para obter os primeiros registros.\n",
    "\n",
    "Neste exemplo, será formada uma tabela com duas colunas. A primeira é intitulada Annual Income (k$) e representa a renda anual do cliente. A segunda é a Spending Score (1-100), que é um score  representando o comportamento de compras do cliente.\n",
    "\n",
    "Na primeira linha, o cliente 0 tem uma annual income de 15 e seu spending score é 39. Na segunda linha, o cliente 1 tem uma annual income de 15 e seu score é 81. Já na terceira, o cliente 2 tem uma annual income de 16 e seu score é 6. Na quarta linha, o cliente 3 tem uma annual income de 16 e seu score é de 77. Na quinta e última linha, o cliente 4 tem uma annual income de 17 e seu score é 40.\n",
    "\n",
    "![imagem.png](imagem/figura_3.2_9.png)\n",
    "\n",
    "Em seguida, escolha o valor da quantidade de grupos do algoritmo K-means. Em primeiro lugar, importe a biblioteca que contém o algoritmo K-means, escrevendo “from sklearn.cluster import KMeans”.\n",
    "\n",
    "\n",
    "``\n",
    "from sklearn.cluster import KMeans\n",
    "``\n",
    "\n",
    "\n",
    "O módulo K-means recebe, como parâmetros de entrada, as variáveis **n_clusters**, e **init**, que são, respectivamente, o número de clusters k e o tipo de inicialização. Por simplicidade, escolha o valor de **n_clusters = 5** e **init = ‘kmeans++’**.\n",
    "\n",
    "Dando continuidade, escreva os comandos “modelo_kmeans = KMeans(n_clusters= 5, init='k-means++')” para criar o modelo com 5 grupos. Feito isso, passe os dados contidos na variável X para o método **fit_predict**, para que o modelo possa iterar sobre os dados e retornar os grupos, que são os resultados da clusterização, fazendo “y_kmeans = modelo_kmeans.fit_predict(X)”.\n",
    "\n",
    "Nesta amostra, foi organizado um array com cinco grupos ou cinco clusters. Nele, são exibidos os números 0, 3, 2, 4 e 2 em várias combinações dentro de parênteses angulares. \n",
    "\n",
    "![imagem.png](imagem/figura_3.2_10.png)\n",
    "\n",
    "Através do comando “print(y_kmeans)”, você obterá um array com os grupos criados. Logo, foram criados 5 grupos, não é mesmo?\n",
    "\n",
    "O primeiro grupo, pode ser exibido ao escrever “print(X[y_kmeans == 0])”, que retornará os dados agrupados na primeira categoria, como neste exemplo de visualização do primeiro grupo criado, formado por duas colunas: Annual Income(k$) e Spending Score (1-100) com 25 linhas.\n",
    "\n",
    "![imagem.png](imagem/figura_3.2_11.png)\n",
    "\n",
    "Para visualizar os grupos criados, é preciso plotar dentro de um loop, passando para a função de plot, cada parte dos dados correspondentes àquele grupo. Para isso, escreva “k_grupos = 5”, e cores = ['r', 'b', 'k', 'y', 'g'], para definir, respectivamente, o número de grupos e as cores de cada grupo.\n",
    "\n",
    "Dentro do loop, escreva: cluster = X[y_kmeans == k], para obter os dados do grupo; e “plt.scatter(cluster['Annual Income (k$)'], cluster['Spending Score (1-100)'], s = 100, c = cores[i], label = f'Cluster {k}')”, para fazer o plot.\n",
    "\n",
    "![imagem.png](imagem/figura_3.2_12.png)\n",
    "\n",
    "Para gerar o gráfico, você deve escrever as linhas de código “plt.title('Grupos de clientes')” para o título do gráfico, e “plt.xlabel('Renda Anual (k$)')”, “plt.ylabel('Score (1-100)')” para os títulos do eixo x e y, assim como “plt.legend()” para a legenda; e, por fim, “plt.show()”.\n",
    "\n",
    "A representação gráfica da clusterização de grupos de clientes será indicada por pontos coloridos e classificada por score e renda anual, conforme o exemplo. À direita, há uma legenda mostrando a cor que representa cada cluster. O gráfico é formado por dois eixos.\n",
    "\n",
    "No eixo Y, na vertical, temos os números 0, 20, 40, 60, 80 e 100 que representam o score. No eixo X, na horizontal, temos os números 20, 40, 60, 80, 100, 120 e 140 que representam a renda anual. No gráfico, os pontos pretos que representam o Cluster 2, têm em maior parte um score entre 0 e 40 e uma renda anual entre 20 e 40. \n",
    "\n",
    "Os pontos verdes, que representam o Cluster 4, têm em maior parte um score entre 0 e 40 e uma renda anual entre 70 e 100. Os pontos azuis, que representam o Cluster 1, estão concentrados entre os valores de 40 e 60 no score e entre 40 e 70 na renda anual.\n",
    "\n",
    "Os pontos amarelos, que representam o Cluster 3, têm na maior parte um score entre 60 a 100 e uma renda anual entre 20 e 40. Os pontos vermelhos, que representam o Cluster 0, têm na maior parte um score de 70 a 100 com uma renda anual entre 70 e 100.\n",
    "\n",
    "![imagem.png](imagem/figura_3.2_13.png)\n",
    "\n",
    "Desse modo, a partir do resultado da análise de cluster, você perceberá, por exemplo, que o grupo de clientes com score maior que 60 e renda anual a partir de 60 mil dólares por ano corresponde ao grupo de número 0, ou seja, o primeiro grupo.\n",
    "\n",
    "Até aqui, você estudou o algoritmo K-means e como ele agrupa um conjunto de dados, utilizando medidas de distância e comparando-as com os centróides, assim como também aprendeu como o valor de k pode ser obtido. Vale ressaltar que, para um melhor aprendizado do funcionamento e aplicação das técnicas, é\n",
    "essencial que você coloque em prática os comandos abordados. E não se esqueça de aprofundar o conteúdo e resolver os exercícios.\n",
    "\n",
    "Bons estudos e até mais!"
   ]
  },
  {
   "cell_type": "code",
   "execution_count": null,
   "metadata": {},
   "outputs": [],
   "source": []
  },
  {
   "cell_type": "code",
   "execution_count": 1,
   "metadata": {},
   "outputs": [],
   "source": [
    "import numpy as np\n",
    "import pandas as pd\n",
    "import matplotlib.pyplot as plt"
   ]
  },
  {
   "cell_type": "markdown",
   "metadata": {},
   "source": [
    "### Leitura dos dados"
   ]
  },
  {
   "cell_type": "code",
   "execution_count": 2,
   "metadata": {},
   "outputs": [
    {
     "data": {
      "text/html": [
       "<div>\n",
       "<style scoped>\n",
       "    .dataframe tbody tr th:only-of-type {\n",
       "        vertical-align: middle;\n",
       "    }\n",
       "\n",
       "    .dataframe tbody tr th {\n",
       "        vertical-align: top;\n",
       "    }\n",
       "\n",
       "    .dataframe thead th {\n",
       "        text-align: right;\n",
       "    }\n",
       "</style>\n",
       "<table border=\"1\" class=\"dataframe\">\n",
       "  <thead>\n",
       "    <tr style=\"text-align: right;\">\n",
       "      <th></th>\n",
       "      <th>CustomerID</th>\n",
       "      <th>Gender</th>\n",
       "      <th>Age</th>\n",
       "      <th>Annual Income (k$)</th>\n",
       "      <th>Spending Score (1-100)</th>\n",
       "    </tr>\n",
       "  </thead>\n",
       "  <tbody>\n",
       "    <tr>\n",
       "      <th>0</th>\n",
       "      <td>1</td>\n",
       "      <td>Male</td>\n",
       "      <td>19</td>\n",
       "      <td>15</td>\n",
       "      <td>39</td>\n",
       "    </tr>\n",
       "    <tr>\n",
       "      <th>1</th>\n",
       "      <td>2</td>\n",
       "      <td>Male</td>\n",
       "      <td>21</td>\n",
       "      <td>15</td>\n",
       "      <td>81</td>\n",
       "    </tr>\n",
       "    <tr>\n",
       "      <th>2</th>\n",
       "      <td>3</td>\n",
       "      <td>Female</td>\n",
       "      <td>20</td>\n",
       "      <td>16</td>\n",
       "      <td>6</td>\n",
       "    </tr>\n",
       "    <tr>\n",
       "      <th>3</th>\n",
       "      <td>4</td>\n",
       "      <td>Female</td>\n",
       "      <td>23</td>\n",
       "      <td>16</td>\n",
       "      <td>77</td>\n",
       "    </tr>\n",
       "    <tr>\n",
       "      <th>4</th>\n",
       "      <td>5</td>\n",
       "      <td>Female</td>\n",
       "      <td>31</td>\n",
       "      <td>17</td>\n",
       "      <td>40</td>\n",
       "    </tr>\n",
       "  </tbody>\n",
       "</table>\n",
       "</div>"
      ],
      "text/plain": [
       "   CustomerID  Gender  Age  Annual Income (k$)  Spending Score (1-100)\n",
       "0           1    Male   19                  15                      39\n",
       "1           2    Male   21                  15                      81\n",
       "2           3  Female   20                  16                       6\n",
       "3           4  Female   23                  16                      77\n",
       "4           5  Female   31                  17                      40"
      ]
     },
     "execution_count": 2,
     "metadata": {},
     "output_type": "execute_result"
    }
   ],
   "source": [
    "df = pd.read_csv('dataset/Mall_Customers.csv')\n",
    "df.head()"
   ]
  },
  {
   "cell_type": "code",
   "execution_count": 3,
   "metadata": {},
   "outputs": [
    {
     "data": {
      "text/plain": [
       "(200, 5)"
      ]
     },
     "execution_count": 3,
     "metadata": {},
     "output_type": "execute_result"
    }
   ],
   "source": [
    "df.shape"
   ]
  },
  {
   "cell_type": "markdown",
   "metadata": {},
   "source": [
    "### Verificar dados nulos"
   ]
  },
  {
   "cell_type": "code",
   "execution_count": 4,
   "metadata": {},
   "outputs": [
    {
     "data": {
      "text/plain": [
       "CustomerID                0\n",
       "Gender                    0\n",
       "Age                       0\n",
       "Annual Income (k$)        0\n",
       "Spending Score (1-100)    0\n",
       "dtype: int64"
      ]
     },
     "execution_count": 4,
     "metadata": {},
     "output_type": "execute_result"
    }
   ],
   "source": [
    "df.isnull().sum()"
   ]
  },
  {
   "cell_type": "markdown",
   "metadata": {},
   "source": [
    "### Informações estatísticas"
   ]
  },
  {
   "cell_type": "code",
   "execution_count": 5,
   "metadata": {},
   "outputs": [
    {
     "data": {
      "text/html": [
       "<div>\n",
       "<style scoped>\n",
       "    .dataframe tbody tr th:only-of-type {\n",
       "        vertical-align: middle;\n",
       "    }\n",
       "\n",
       "    .dataframe tbody tr th {\n",
       "        vertical-align: top;\n",
       "    }\n",
       "\n",
       "    .dataframe thead th {\n",
       "        text-align: right;\n",
       "    }\n",
       "</style>\n",
       "<table border=\"1\" class=\"dataframe\">\n",
       "  <thead>\n",
       "    <tr style=\"text-align: right;\">\n",
       "      <th></th>\n",
       "      <th>CustomerID</th>\n",
       "      <th>Age</th>\n",
       "      <th>Annual Income (k$)</th>\n",
       "      <th>Spending Score (1-100)</th>\n",
       "    </tr>\n",
       "  </thead>\n",
       "  <tbody>\n",
       "    <tr>\n",
       "      <th>count</th>\n",
       "      <td>200.000000</td>\n",
       "      <td>200.000000</td>\n",
       "      <td>200.000000</td>\n",
       "      <td>200.000000</td>\n",
       "    </tr>\n",
       "    <tr>\n",
       "      <th>mean</th>\n",
       "      <td>100.500000</td>\n",
       "      <td>38.850000</td>\n",
       "      <td>60.560000</td>\n",
       "      <td>50.200000</td>\n",
       "    </tr>\n",
       "    <tr>\n",
       "      <th>std</th>\n",
       "      <td>57.879185</td>\n",
       "      <td>13.969007</td>\n",
       "      <td>26.264721</td>\n",
       "      <td>25.823522</td>\n",
       "    </tr>\n",
       "    <tr>\n",
       "      <th>min</th>\n",
       "      <td>1.000000</td>\n",
       "      <td>18.000000</td>\n",
       "      <td>15.000000</td>\n",
       "      <td>1.000000</td>\n",
       "    </tr>\n",
       "    <tr>\n",
       "      <th>25%</th>\n",
       "      <td>50.750000</td>\n",
       "      <td>28.750000</td>\n",
       "      <td>41.500000</td>\n",
       "      <td>34.750000</td>\n",
       "    </tr>\n",
       "    <tr>\n",
       "      <th>50%</th>\n",
       "      <td>100.500000</td>\n",
       "      <td>36.000000</td>\n",
       "      <td>61.500000</td>\n",
       "      <td>50.000000</td>\n",
       "    </tr>\n",
       "    <tr>\n",
       "      <th>75%</th>\n",
       "      <td>150.250000</td>\n",
       "      <td>49.000000</td>\n",
       "      <td>78.000000</td>\n",
       "      <td>73.000000</td>\n",
       "    </tr>\n",
       "    <tr>\n",
       "      <th>max</th>\n",
       "      <td>200.000000</td>\n",
       "      <td>70.000000</td>\n",
       "      <td>137.000000</td>\n",
       "      <td>99.000000</td>\n",
       "    </tr>\n",
       "  </tbody>\n",
       "</table>\n",
       "</div>"
      ],
      "text/plain": [
       "       CustomerID         Age  Annual Income (k$)  Spending Score (1-100)\n",
       "count  200.000000  200.000000          200.000000              200.000000\n",
       "mean   100.500000   38.850000           60.560000               50.200000\n",
       "std     57.879185   13.969007           26.264721               25.823522\n",
       "min      1.000000   18.000000           15.000000                1.000000\n",
       "25%     50.750000   28.750000           41.500000               34.750000\n",
       "50%    100.500000   36.000000           61.500000               50.000000\n",
       "75%    150.250000   49.000000           78.000000               73.000000\n",
       "max    200.000000   70.000000          137.000000               99.000000"
      ]
     },
     "execution_count": 5,
     "metadata": {},
     "output_type": "execute_result"
    }
   ],
   "source": [
    "df.describe()"
   ]
  },
  {
   "cell_type": "markdown",
   "metadata": {},
   "source": [
    "### Gerando gráfico de renda anual versus score do cliente"
   ]
  },
  {
   "cell_type": "code",
   "execution_count": 9,
   "metadata": {},
   "outputs": [
    {
     "data": {
      "image/png": "[encoded data removed]",
      "text/plain": [
       "<Figure size 432x288 with 1 Axes>"
      ]
     },
     "metadata": {
      "needs_background": "light"
     },
     "output_type": "display_data"
    }
   ],
   "source": [
    "plt.scatter(df['Annual Income (k$)'], df['Spending Score (1-100)'], marker='.')\n",
    "plt.xlabel('Renda Anual [k$]')\n",
    "plt.ylabel('Score (1-100)')\n",
    "plt.show()"
   ]
  },
  {
   "cell_type": "markdown",
   "metadata": {},
   "source": [
    "### Selecioando dados para agrupamento"
   ]
  },
  {
   "cell_type": "code",
   "execution_count": 10,
   "metadata": {},
   "outputs": [
    {
     "data": {
      "text/html": [
       "<div>\n",
       "<style scoped>\n",
       "    .dataframe tbody tr th:only-of-type {\n",
       "        vertical-align: middle;\n",
       "    }\n",
       "\n",
       "    .dataframe tbody tr th {\n",
       "        vertical-align: top;\n",
       "    }\n",
       "\n",
       "    .dataframe thead th {\n",
       "        text-align: right;\n",
       "    }\n",
       "</style>\n",
       "<table border=\"1\" class=\"dataframe\">\n",
       "  <thead>\n",
       "    <tr style=\"text-align: right;\">\n",
       "      <th></th>\n",
       "      <th>Annual Income (k$)</th>\n",
       "      <th>Spending Score (1-100)</th>\n",
       "    </tr>\n",
       "  </thead>\n",
       "  <tbody>\n",
       "    <tr>\n",
       "      <th>0</th>\n",
       "      <td>15</td>\n",
       "      <td>39</td>\n",
       "    </tr>\n",
       "    <tr>\n",
       "      <th>1</th>\n",
       "      <td>15</td>\n",
       "      <td>81</td>\n",
       "    </tr>\n",
       "    <tr>\n",
       "      <th>2</th>\n",
       "      <td>16</td>\n",
       "      <td>6</td>\n",
       "    </tr>\n",
       "    <tr>\n",
       "      <th>3</th>\n",
       "      <td>16</td>\n",
       "      <td>77</td>\n",
       "    </tr>\n",
       "    <tr>\n",
       "      <th>4</th>\n",
       "      <td>17</td>\n",
       "      <td>40</td>\n",
       "    </tr>\n",
       "  </tbody>\n",
       "</table>\n",
       "</div>"
      ],
      "text/plain": [
       "   Annual Income (k$)  Spending Score (1-100)\n",
       "0                  15                      39\n",
       "1                  15                      81\n",
       "2                  16                       6\n",
       "3                  16                      77\n",
       "4                  17                      40"
      ]
     },
     "execution_count": 10,
     "metadata": {},
     "output_type": "execute_result"
    }
   ],
   "source": [
    "X = df[['Annual Income (k$)', 'Spending Score (1-100)']]\n",
    "X.head()"
   ]
  },
  {
   "cell_type": "markdown",
   "metadata": {},
   "source": [
    "### Importando K-means"
   ]
  },
  {
   "cell_type": "code",
   "execution_count": 11,
   "metadata": {},
   "outputs": [],
   "source": [
    "from sklearn.cluster import KMeans"
   ]
  },
  {
   "cell_type": "markdown",
   "metadata": {},
   "source": [
    "### Clusterizando com k = 5"
   ]
  },
  {
   "cell_type": "code",
   "execution_count": 12,
   "metadata": {},
   "outputs": [],
   "source": [
    "modelo_kmeans = KMeans(n_clusters= 5, init='k-means++')"
   ]
  },
  {
   "cell_type": "code",
   "execution_count": 13,
   "metadata": {},
   "outputs": [],
   "source": [
    "y_kmeans= modelo_kmeans.fit_predict(X)"
   ]
  },
  {
   "cell_type": "code",
   "execution_count": 14,
   "metadata": {},
   "outputs": [
    {
     "name": "stdout",
     "output_type": "stream",
     "text": [
      "[2 4 2 4 2 4 2 4 2 4 2 4 2 4 2 4 2 4 2 4 2 4 2 4 2 4 2 4 2 4 2 4 2 4 2 4 2\n",
      " 4 2 4 2 4 2 0 2 4 0 0 0 0 0 0 0 0 0 0 0 0 0 0 0 0 0 0 0 0 0 0 0 0 0 0 0 0\n",
      " 0 0 0 0 0 0 0 0 0 0 0 0 0 0 0 0 0 0 0 0 0 0 0 0 0 0 0 0 0 0 0 0 0 0 0 0 0\n",
      " 0 0 0 0 0 0 0 0 0 0 0 0 3 1 3 0 3 1 3 1 3 0 3 1 3 1 3 1 3 1 3 0 3 1 3 1 3\n",
      " 1 3 1 3 1 3 1 3 1 3 1 3 1 3 1 3 1 3 1 3 1 3 1 3 1 3 1 3 1 3 1 3 1 3 1 3 1\n",
      " 3 1 3 1 3 1 3 1 3 1 3 1 3 1 3]\n"
     ]
    }
   ],
   "source": [
    "print(y_kmeans)"
   ]
  },
  {
   "cell_type": "markdown",
   "metadata": {},
   "source": [
    "### Visualizando o primeiro grupo criado"
   ]
  },
  {
   "cell_type": "code",
   "execution_count": 15,
   "metadata": {},
   "outputs": [
    {
     "name": "stdout",
     "output_type": "stream",
     "text": [
      "     Annual Income (k$)  Spending Score (1-100)\n",
      "43                   39                      61\n",
      "46                   40                      55\n",
      "47                   40                      47\n",
      "48                   40                      42\n",
      "49                   40                      42\n",
      "..                  ...                     ...\n",
      "121                  67                      40\n",
      "122                  69                      58\n",
      "126                  71                      35\n",
      "132                  72                      34\n",
      "142                  76                      40\n",
      "\n",
      "[81 rows x 2 columns]\n"
     ]
    }
   ],
   "source": [
    "print(X[y_kmeans == 0])"
   ]
  },
  {
   "cell_type": "markdown",
   "metadata": {},
   "source": [
    "#### Visualizando os grupos"
   ]
  },
  {
   "cell_type": "code",
   "execution_count": 16,
   "metadata": {},
   "outputs": [
    {
     "data": {
      "image/png": "[encoded data removed]",
      "text/plain": [
       "<Figure size 432x288 with 1 Axes>"
      ]
     },
     "metadata": {
      "needs_background": "light"
     },
     "output_type": "display_data"
    }
   ],
   "source": [
    "k_grupos = 5\n",
    "cores = ['r', 'b', 'k', 'y', 'g']\n",
    "for k in range(k_grupos):\n",
    "    cluster = X[y_kmeans == k]\n",
    "    plt.scatter(cluster['Annual Income (k$)'], cluster['Spending Score (1-100)'],\n",
    "                s = 100, c = cores[k], label = f'Cluster {k}')\n",
    "\n",
    "\n",
    "plt.title('Grupos de clientes')\n",
    "plt.xlabel('Renda Anual (k$)')\n",
    "plt.ylabel('Score (1-100)')\n",
    "plt.grid()\n",
    "plt.legend()\n",
    "plt.show()"
   ]
  },
  {
   "cell_type": "code",
   "execution_count": null,
   "metadata": {},
   "outputs": [],
   "source": []
  }
 ],
 "metadata": {
  "kernelspec": {
   "display_name": "Python 3",
   "language": "python",
   "name": "python3"
  },
  "language_info": {
   "codemirror_mode": {
    "name": "ipython",
    "version": 3
   },
   "file_extension": ".py",
   "mimetype": "text/x-python",
   "name": "python",
   "nbconvert_exporter": "python",
   "pygments_lexer": "ipython3",
   "version": "3.7.6"
  }
 },
 "nbformat": 4,
 "nbformat_minor": 4
}
