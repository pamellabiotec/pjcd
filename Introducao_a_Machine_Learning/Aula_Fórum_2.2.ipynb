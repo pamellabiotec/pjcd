{
 "cells": [
  {
   "cell_type": "markdown",
   "metadata": {},
   "source": [
    "# Introdução a Machine Learning\n",
    "\n",
    "## Fórum - 2.2\n",
    "\n",
    "Nesta aula, você foi apresentado às Árvores de Decisão. Este modelo tem como objetivo classificar ou efetuar a regressão baseando-se na construção de regras “se-então”. O ponto chave deste modelo é a aplicação de um cálculo de impureza para cada possível divisão dos dados. Para isso, foi utilizado a técnica de impureza de Gini que consiste em um índice que mensura se uma divisão nos dados de acordo com um valor de atributo foi eficiente em separar as classes. O valor de Gini será cada vez menor quando a divisão dos dados resultar em um menor número de classes obtidas na separação, tendendo a zero quando a divisão resultar em dados de uma única classe. Com isto, é possível perceber que as Árvores de Decisão são capazes de separar os dados de treino perfeitamente, inclusive se tratando de dados não-linearmente separáveis.\n",
    "\n",
    "A partir do que você aprendeu, descreva em um parágrafo, algum cenário de problemas com conjuntos de dados que podem ser resolvidos utilizando Árvores de Decisão, dadas as características desse modelo. Não se esqueça de justificar sua resposta."
   ]
  },
  {
   "cell_type": "markdown",
   "metadata": {},
   "source": [
    "Olá\n",
    "\n",
    "\n",
    "\n",
    "A Árvore de Decisão pode ser aplicada em um sistema de avaliação dos indicadores de internações por condições sensíveis à atenção básica entre as internações clínicas, de residentes em um determinado município, no período considerado. Poderíamos considerar o seguinte [datasets](https://dados.gov.br/dataset/wms_idsus_nt_prisab#) \n"
   ]
  }
 ],
 "metadata": {
  "kernelspec": {
   "display_name": "Python 3",
   "language": "python",
   "name": "python3"
  },
  "language_info": {
   "codemirror_mode": {
    "name": "ipython",
    "version": 3
   },
   "file_extension": ".py",
   "mimetype": "text/x-python",
   "name": "python",
   "nbconvert_exporter": "python",
   "pygments_lexer": "ipython3",
   "version": "3.7.6"
  }
 },
 "nbformat": 4,
 "nbformat_minor": 4
}
