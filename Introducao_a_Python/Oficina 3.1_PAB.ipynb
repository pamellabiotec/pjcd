{
 "cells": [
  {
   "cell_type": "markdown",
   "metadata": {},
   "source": [
    "# Introdução a Python -  Oficina Aula 3.1\n",
    "\n",
    "Chegou o momento de você colocar em prática tudo o que aprendeu sobre dividir e reutilizar códigos. Para isso, imagine um programa de agenda, que utiliza uma lista para armazenar os eventos inseridos por um usuário, cuja uma de suas finalidades é imprimir uma lista dos eventos que acontecerão entre duas datas especificadas também pelo usuário. Os eventos são representados por tuplas, em que:\n",
    "\n",
    "* O primeiro elemento é uma tupla de três números: ano, mês e dia;\n",
    "* O segundo elemento é uma tupla de dois números: hora e minuto e;\n",
    "* O terceiro elemento é uma string que descreve brevemente o evento.\n",
    "Um exemplo dos dados desta agenda é representado pelo trecho abaixo:\n",
    "```python\n",
    "agenda = [\n",
    "      ((2020, 1, 13), (11, 50), 'Renovar identidade'),\n",
    "      ((2020, 1, 15), (16, 30), 'Fazer compras'),\n",
    "      ((2020, 1, 25), (8, 45), 'Autenticar documentos'),\n",
    "      ((2020, 2, 29), (14, 15), 'Prestar concurso'),\n",
    "      ((2020, 3, 15), (17, 50), 'Buscar bolo pro aniversário da vovó'),\n",
    "      ((2020, 3, 17), (13, 20), 'Consulta de revisão com dentista'),\n",
    "]\n",
    "```\n",
    "Você deve completar a função imprimir_eventos, rascunhada abaixo, que recebe como parâmetros uma lista de eventos neste formato e dois parâmetros adicionais, de_data e ate_data, que dão as datas inicial e final:\n",
    "\n",
    "```python\n",
    "def imprimir_eventos(eventos, de_data=(1, 1, 1), ate_data=(9999, 12, 31)):\n",
    "```\n",
    "\n",
    "Os valores padrão das datas indicam que o comportamento padrão é imprimir todos os eventos. É possível restringir a data inicial, a data final, ou ambas, usando estes parâmetros. Por exemplo, o resultado da chamada imprimir_eventos(agenda, (2020, 1, 20)) é a impressão do seguinte trecho:\n",
    "\n",
    "```python\n",
    "25/jan/2020 - 08:45: Autenticar documentos\n",
    "29/fev/2020 - 14:15: Prestar concurso\n",
    "15/mar/2020 - 17:50: Buscar bolo pro aniversário da vovó\n",
    "17/mar/2020 - 13:20: Consulta de revisão com dentista\n",
    "```\n",
    "\n",
    "e o resultado da chamada imprimir_eventos(agenda, ate_data=(2020, 3, 15)) é a impressão de:\n",
    "\n",
    "```python\n",
    "13/jan/2020 - 11:50: Renovar identidade\n",
    "15/jan/2020 - 16:30: Fazer compras\n",
    "25/jan/2020 - 08:45: Autenticar documentos\n",
    "29/fev/2020 - 14:15: Prestar concurso\n",
    "15/mar/2020 - 17:50: Buscar bolo pro aniversário da vovó\n",
    "```\n",
    "\n",
    "Para te auxiliar na conclusão deste problema, você deve criar também duas funções adicionais:\n",
    "\n",
    "* formatar_data, que recebe uma tupla de números na forma (ano, mes, dia) e retorna uma string na forma dd/mes/aaaa, substituindo o mês pelas três letras iniciais do nome do mês, por extenso. Por exemplo, formatar_data((2020, 1, 3)) deve retornar \"03/jan/2020\".\n",
    "* formatar_hora, que recebe uma tupla de números na forma (hora, minuto) e retorna uma string na forma hh:mm em formato de 24h. Por exemplo, formatar_hora((16, 30)) deve retornar \"16:30\"\n",
    "\n",
    "Então agora é o momento de você unir todas essas informações ao que você já sabe sobre funções para completar o programa de acordo com as orientações passadas. \n",
    "\n",
    "Boa prática!"
   ]
  },
  {
   "cell_type": "code",
   "execution_count": 70,
   "metadata": {},
   "outputs": [],
   "source": [
    "agenda = [\n",
    "    ((2020, 1, 13), (11, 50), 'Renovar identidade'),\n",
    "    ((2020, 1, 15), (16, 30), 'Fazer compras'),\n",
    "    ((2020, 1, 25), (8, 45), 'Autenticar documentos'),\n",
    "    ((2020, 2, 29), (14, 15), 'Prestar concurso'),\n",
    "    ((2020, 3, 15), (17, 50), 'Buscar bolo pro aniversário da vovó'),\n",
    "    ((2020, 3, 17), (13, 20), 'Consulta de revisão com dentista'),\n",
    "] \n",
    "#Desempacotando agenda\n",
    "a, b, c, d, e, f = agenda\n",
    "a1, a2, a3 = a\n",
    "b1, b2, b3 = b\n",
    "c1, c2, c3 = c\n",
    "d1, d2, d3 = d\n",
    "e1, e2, e3 = e\n",
    "f1, f2, f3 = f\n",
    "\n",
    "#Convertendo as tuplas em listas\n",
    "a1 = list(a1)\n",
    "a2 = list(a2)\n",
    "b1 = list(b1)\n",
    "b2 = list(b2)\n",
    "c1 = list(c1)\n",
    "c2 = list(c2)\n",
    "d1 = list(d1)\n",
    "d2 = list(d2)\n",
    "e1 = list(e1)\n",
    "e2 = list(e2)\n",
    "f1 = list(f1)\n",
    "f2 = list(f2)\n",
    "\n",
    "#Convertendo as listas com int em string\n",
    "a1 = \"/\".join(map(str, a1))\n",
    "a2 = \":\".join(map(str, a2))\n",
    "b1 = \"/\".join(map(str, b1))\n",
    "b2 = \":\".join(map(str, b2))\n",
    "c1 = \"/\".join(map(str, c1))\n",
    "c2 = \":\".join(map(str, c2))\n",
    "d1 = \"/\".join(map(str, d1))\n",
    "d2 = \":\".join(map(str, d2))\n",
    "e1 = \"/\".join(map(str, e1))\n",
    "e2 = \":\".join(map(str, e2))\n",
    "f1 = \"/\".join(map(str, f1))\n",
    "f2 = \":\".join(map(str, f2))"
   ]
  },
  {
   "cell_type": "code",
   "execution_count": 71,
   "metadata": {},
   "outputs": [],
   "source": [
    "#Aplicando uma função\n",
    "def imprimir_eventos(eventos, de_data=(1, 1, 1), ate_data=(9999, 12, 31)):\n",
    "    pass"
   ]
  },
  {
   "cell_type": "code",
   "execution_count": 72,
   "metadata": {},
   "outputs": [
    {
     "name": "stdout",
     "output_type": "stream",
     "text": [
      "       datas horários                              eventos\n",
      "0  2020/1/13    11:50                   Renovar identidade\n",
      "1  2020/1/15    16:30                        Fazer compras\n",
      "2  2020/1/25     8:45                Autenticar documentos\n",
      "3  2020/2/29    14:15                     Prestar concurso\n",
      "4  2020/3/15    17:50  Buscar bolo pro aniversário da vovó\n",
      "5  2020/3/17    13:20     Consulta de revisão com dentista\n"
     ]
    }
   ],
   "source": [
    "#Criando uma tabela a partir das variáveis\n",
    "import pandas as pd\n",
    "agenda = {'datas': [a1, b1, c1, d1, e1, f1], 'horários': [a2, b2, c2, d2, e2, f2], 'eventos': [a3, b3, c3, d3, e3, f3]}\n",
    "aux = pd.DataFrame(agenda, columns = ['datas','horários', 'eventos'])\n",
    "print(aux)"
   ]
  },
  {
   "cell_type": "markdown",
   "metadata": {},
   "source": [
    "Desenvolvido por **Pâmella Araujo Balcaçar**, Rondonópolis-MT, 30/12/2020."
   ]
  }
 ],
 "metadata": {
  "kernelspec": {
   "display_name": "Python 3",
   "language": "python",
   "name": "python3"
  },
  "language_info": {
   "codemirror_mode": {
    "name": "ipython",
    "version": 3
   },
   "file_extension": ".py",
   "mimetype": "text/x-python",
   "name": "python",
   "nbconvert_exporter": "python",
   "pygments_lexer": "ipython3",
   "version": "3.7.6"
  }
 },
 "nbformat": 4,
 "nbformat_minor": 4
}
