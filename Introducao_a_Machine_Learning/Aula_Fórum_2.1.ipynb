{
 "cells": [
  {
   "cell_type": "markdown",
   "metadata": {},
   "source": [
    "## Aula 2.1\n",
    "\n",
    "## Fórum\n",
    "\n",
    "O **K-Nearest Neighbors** (KNN) é um modelo que tem como objetivo classificar ou efetuar a regressão baseando-se em dados do conjunto de treino que são parecidos com o dado a ser classificado. O ponto chave deste modelo é a aplicação de uma métrica de distância, tal como a distância euclidiana, que já deve ser familiar para você, não é mesmo?\n",
    "\n",
    "Um exemplo interessante, para utilizar o KNN seria a situação a seguir:\n",
    "\n",
    "Uma empresa especializada em RH precisa classificar funções de funcionários de acordo com suas habilidades. O conjunto de dados para essa tarefa é composto por linhas representando um funcionário e colunas representando suas habilidades, sendo valor 0 para habilidade ausente e 1 para habilidade presente. Além disso, tem-se uma coluna extra para identificar o segmento de atuação (rótulo) do funcionário. O KNN irá funcionar bem neste caso, uma vez que, funcionários com habilidades parecidas devem possuir funções parecidas e, portanto, o cálculo da distância baseado nos seus conjuntos de habilidades deve ser menor que a distância para um funcionário que possua função diferente. \n",
    "\n",
    "Bom, considerando a maneira como o modelo KNN é construído, utilize sua imaginação e tudo que você aprendeu para descrever um outro cenário em que seria possível aplicar o K-Nearest Neighbors para construir um modelo de classificação ou regressão sobre um conjunto de dados.\n",
    "\n",
    "Bom trabalho!"
   ]
  },
  {
   "cell_type": "markdown",
   "metadata": {},
   "source": [
    "Em um ambiente escolar, o professor precisará classificar as habilidades desenvolvidas pelos estudantes no decorrer do curso da disciplina, considerando BNCC e os objetivos pedagógicos propostos, ainda mais relacionando uma porcentagem à respectiva proficiência adquirida. Nesse sentido, uma lista de habilidades é enumeradas para aplicação do método KNN: \n",
    "* 0 - Nenhuma habilidade;\n",
    "* 1 - habilidade A;\n",
    "* 2 - habilidade B;\n",
    "* 3 - habilidade C;\n",
    "E assim, por diante... Outra lista é desenvolvida para definir a porcentagem de proficiência adquirida em cada habilidade."
   ]
  }
 ],
 "metadata": {
  "kernelspec": {
   "display_name": "Python 3",
   "language": "python",
   "name": "python3"
  },
  "language_info": {
   "codemirror_mode": {
    "name": "ipython",
    "version": 3
   },
   "file_extension": ".py",
   "mimetype": "text/x-python",
   "name": "python",
   "nbconvert_exporter": "python",
   "pygments_lexer": "ipython3",
   "version": "3.7.6"
  }
 },
 "nbformat": 4,
 "nbformat_minor": 4
}
