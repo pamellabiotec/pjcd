{
 "cells": [
  {
   "cell_type": "markdown",
   "metadata": {},
   "source": [
    "# Introdução a Machine Learning\n",
    "\n",
    "## Fórum \n",
    "\n",
    "As redes neurais podem ser modelos para vários tipos de dados, porém esta flexibilidade é compensada pela quantidade de parâmetros que devem ser ajustados para um bom funcionamento da mesma. Por exemplo, um dos parâmetros aos quais poucos se atentam é a função de ativação de um neurônio, que pode fazer toda a diferença nos resultados obtidos. Com base nesse ponto e de acordo com a sua experiência como programador, quais outros parâmetros ou alterações podem trazer diferenças nos resultados obtidos por redes neurais? Comente também quais os seus impactos sobre as avaliações obtidas."
   ]
  },
  {
   "cell_type": "markdown",
   "metadata": {},
   "source": [
    "Olá\n",
    "\n",
    "Considero que ao mexer no tamanho da camada intermediária(hidden_layer_sizes); na quantidade de interações(max_iter); e no número de chamadas de função de perda(max_fun) que deve ser maior ou igual ao número de iterações; ou quando mexer na taxa de aprendizagem inicial (learning_rate_init) poderemos obter resultados melhores. Houve um aumento significativo ao avaliar por meio da função score."
   ]
  }
 ],
 "metadata": {
  "kernelspec": {
   "display_name": "Python 3",
   "language": "python",
   "name": "python3"
  },
  "language_info": {
   "codemirror_mode": {
    "name": "ipython",
    "version": 3
   },
   "file_extension": ".py",
   "mimetype": "text/x-python",
   "name": "python",
   "nbconvert_exporter": "python",
   "pygments_lexer": "ipython3",
   "version": "3.7.6"
  }
 },
 "nbformat": 4,
 "nbformat_minor": 4
}
