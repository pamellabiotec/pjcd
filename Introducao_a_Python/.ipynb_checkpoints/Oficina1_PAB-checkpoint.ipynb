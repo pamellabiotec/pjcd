{
 "cells": [
  {
   "cell_type": "markdown",
   "metadata": {},
   "source": [
    "# Introdução a Python - OFicina 1.2\n",
    "\n",
    "Durante a aula, você aprendeu como fazer entrada e saída de dados, além de como ler strings e convertê-los para números. Nesta oficina, você deve construir um programa Python que faz a leitura do nome, da idade, do peso e da altura de uma pessoa, e calcula o Índice de Massa Corporal (IMC) dela. O IMC é uma medida internacionalmente aceita, que calcula se uma pessoa pode ter problemas de peso ou não. Sabendo disso, o IMC é calculado da seguinte forma:\n",
    ">IMC = peso/(altura*altura)\n",
    "\n",
    "ou\n",
    ">IMC = peso/altura2\n",
    "\n",
    "Ambas as fórmulas são iguais. Dessa forma, seu programa vai ajudar os usuários a calcularem o IMC deles. Ele deve receber como entrada de dados, o nome da pessoa, o peso e a altura. Depois, ele deve calcular o IMC e apresentar este valor na tela para o usuário. Logo abaixo está o cálculo do IMC já pronto para você utilizá-lo. Assumindo que as variáveis com os valores numéricos de peso e altura foram nomeadas como peso_float e altura_float, o código para calcular o IMC é:\n",
    ">altura_ao_quadrado = altura_float * altura_float\n",
    "\n",
    ">imc = peso_float / altura_ao_quadrado\n",
    "\n",
    "Após este cálculo, imprima uma linha contendo o IMC da pessoa.\n",
    "\n",
    "DESAFIO: foi discutido em aula como converter de uma string, ou seja, o tipo str, para um float. Como fazer o caminho inverso, converter de um float para str? Reflita um pouco e tente não só apresentar o valor numérico como escrever algum texto que auxilie a leitura do usuário."
   ]
  },
  {
   "cell_type": "code",
   "execution_count": null,
   "metadata": {},
   "outputs": [],
   "source": [
    "nome_usuario = input(\"Digite o nome do usuário: \")"
   ]
  },
  {
   "cell_type": "code",
   "execution_count": null,
   "metadata": {},
   "outputs": [],
   "source": [
    "peso_usuario = input(\"Digite seu peso: \")"
   ]
  },
  {
   "cell_type": "code",
   "execution_count": null,
   "metadata": {},
   "outputs": [],
   "source": [
    "altura_usuario = input(\"Digite sua altura: \")"
   ]
  },
  {
   "cell_type": "code",
   "execution_count": null,
   "metadata": {},
   "outputs": [],
   "source": [
    "p_u = float(peso_usuario)\n",
    "a_u = float(altura_usuario)"
   ]
  },
  {
   "cell_type": "code",
   "execution_count": null,
   "metadata": {},
   "outputs": [],
   "source": [
    "IMC = p_u/(a_u*a_u)"
   ]
  },
  {
   "cell_type": "code",
   "execution_count": null,
   "metadata": {},
   "outputs": [],
   "source": [
    "print(nome_usuario, \"tem o IMC \", IMC)"
   ]
  },
  {
   "cell_type": "markdown",
   "metadata": {},
   "source": [
    "Desenvolvido por **Pâmella Araújo Balcaçar** - Rondonópolis-MT, 23/11/2020."
   ]
  }
 ],
 "metadata": {
  "kernelspec": {
   "display_name": "Python 3",
   "language": "python",
   "name": "python3"
  },
  "language_info": {
   "codemirror_mode": {
    "name": "ipython",
    "version": 3
   },
   "file_extension": ".py",
   "mimetype": "text/x-python",
   "name": "python",
   "nbconvert_exporter": "python",
   "pygments_lexer": "ipython3",
   "version": "3.7.6"
  }
 },
 "nbformat": 4,
 "nbformat_minor": 4
}
